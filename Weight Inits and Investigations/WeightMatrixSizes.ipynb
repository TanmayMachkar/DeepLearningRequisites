{
 "cells": [
  {
   "cell_type": "code",
   "execution_count": 1,
   "id": "f3b49a18-16bb-4b29-8c84-dfe2122052a1",
   "metadata": {},
   "outputs": [],
   "source": [
    "import torch\n",
    "import torch.nn as nn"
   ]
  },
  {
   "cell_type": "code",
   "execution_count": 2,
   "id": "7a7841e3-686b-4b73-bed8-9137c10a0a9d",
   "metadata": {},
   "outputs": [
    {
     "data": {
      "text/plain": [
       "Sequential(\n",
       "  (0): Linear(in_features=10, out_features=14, bias=True)\n",
       "  (1): Linear(in_features=14, out_features=19, bias=True)\n",
       "  (2): Linear(in_features=19, out_features=8, bias=True)\n",
       ")"
      ]
     },
     "execution_count": 2,
     "metadata": {},
     "output_type": "execute_result"
    }
   ],
   "source": [
    "# build a model\n",
    "aModel = nn.Sequential(\n",
    "    nn.Linear(10, 14), # input layer\n",
    "    nn.Linear(14, 19), # hidden layer\n",
    "    nn.Linear(19, 8) # output layer\n",
    ")\n",
    "\n",
    "aModel"
   ]
  },
  {
   "cell_type": "code",
   "execution_count": 3,
   "id": "9798f1e4-2b93-4f11-aeef-11ca26b989ca",
   "metadata": {},
   "outputs": [
    {
     "name": "stdout",
     "output_type": "stream",
     "text": [
      "torch.Size([14, 10])\n",
      "torch.Size([19, 14])\n",
      "torch.Size([8, 19])\n"
     ]
    }
   ],
   "source": [
    "# print the size of the weights matrices in each layer\n",
    "for i in range(len(aModel)):\n",
    "    print(aModel[i].weight.shape)"
   ]
  },
  {
   "cell_type": "code",
   "execution_count": 4,
   "id": "78c37bb7-6fce-46c0-a0d2-c4d7c7f03985",
   "metadata": {},
   "outputs": [
    {
     "name": "stdout",
     "output_type": "stream",
     "text": [
      "torch.Size([14, 10])\n",
      "torch.Size([9, 14])\n",
      "torch.Size([8, 19])\n"
     ]
    }
   ],
   "source": [
    "M2 = nn.Sequential(\n",
    "    nn.Linear(10, 14), # input layer\n",
    "    nn.Linear(14, 9), # hidden layer\n",
    "    nn.Linear(19, 8) # output layer\n",
    ")\n",
    "\n",
    "for i in range(len(M2)):\n",
    "    print(M2[i].weight.shape)"
   ]
  },
  {
   "cell_type": "code",
   "execution_count": 5,
   "id": "02de8b4f-33fd-4ee0-92de-508e530fb75a",
   "metadata": {},
   "outputs": [],
   "source": [
    "# generate the data\n",
    "nsamples = 5\n",
    "nfeatures = 10\n",
    "\n",
    "fakedata = torch.randn(nsamples, nfeatures)"
   ]
  },
  {
   "cell_type": "code",
   "execution_count": 6,
   "id": "e310ec04-aae7-4541-80b7-4c100f21b44b",
   "metadata": {},
   "outputs": [
    {
     "data": {
      "text/plain": [
       "torch.Size([5, 8])"
      ]
     },
     "execution_count": 6,
     "metadata": {},
     "output_type": "execute_result"
    }
   ],
   "source": [
    "# test the first model\n",
    "\n",
    "# does the size of the O/P make sense?\n",
    "aModel(fakedata).shape"
   ]
  },
  {
   "cell_type": "code",
   "execution_count": 9,
   "id": "a9cad10d-c49a-490a-8844-c331ca2fb487",
   "metadata": {},
   "outputs": [],
   "source": [
    "# test the first model\n",
    "\n",
    "# does the size of the O/P make sense?\n",
    "# M2(fakedata).shape (will give an error)"
   ]
  },
  {
   "cell_type": "code",
   "execution_count": null,
   "id": "742e4935-0d62-45cb-b74a-34d6ba7b2d69",
   "metadata": {},
   "outputs": [],
   "source": []
  }
 ],
 "metadata": {
  "kernelspec": {
   "display_name": "Python 3 (ipykernel)",
   "language": "python",
   "name": "python3"
  },
  "language_info": {
   "codemirror_mode": {
    "name": "ipython",
    "version": 3
   },
   "file_extension": ".py",
   "mimetype": "text/x-python",
   "name": "python",
   "nbconvert_exporter": "python",
   "pygments_lexer": "ipython3",
   "version": "3.13.0"
  }
 },
 "nbformat": 4,
 "nbformat_minor": 5
}
