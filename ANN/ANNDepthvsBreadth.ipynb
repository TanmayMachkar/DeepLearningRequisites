{
 "cells": [
  {
   "cell_type": "code",
   "execution_count": 1,
   "id": "713faea9-ecca-4b5e-95f8-9b3b5184f283",
   "metadata": {},
   "outputs": [],
   "source": [
    "import numpy as np\n",
    "import torch\n",
    "import torch.nn as nn"
   ]
  },
  {
   "cell_type": "code",
   "execution_count": 2,
   "id": "6697f313-1d15-42ad-a241-d0d94a20f06c",
   "metadata": {},
   "outputs": [
    {
     "name": "stdout",
     "output_type": "stream",
     "text": [
      "Sequential(\n",
      "  (0): Linear(in_features=2, out_features=4, bias=True)\n",
      "  (1): Linear(in_features=4, out_features=3, bias=True)\n",
      ")\n",
      " \n",
      "Sequential(\n",
      "  (0): Linear(in_features=2, out_features=2, bias=True)\n",
      "  (1): Linear(in_features=2, out_features=2, bias=True)\n",
      "  (2): Linear(in_features=2, out_features=3, bias=True)\n",
      ")\n"
     ]
    }
   ],
   "source": [
    "# build two models\n",
    "\n",
    "# wide model\n",
    "widenet = nn.Sequential(\n",
    "            nn.Linear(2, 4), # input layer\n",
    "            nn.Linear(4, 3) # output layer\n",
    "        )\n",
    "\n",
    "# deep model\n",
    "deepnet = nn.Sequential(\n",
    "            nn.Linear(2, 2), # input layer\n",
    "            nn.Linear(2, 2), # hidden layer\n",
    "            nn.Linear(2, 3) # output layer\n",
    "        )\n",
    "\n",
    "# print them out to have a look\n",
    "print(widenet)\n",
    "print(\" \")\n",
    "print(deepnet)"
   ]
  },
  {
   "cell_type": "code",
   "execution_count": 3,
   "id": "72ba2b69-f014-4f20-931a-9b4c4fedb53f",
   "metadata": {},
   "outputs": [
    {
     "name": "stdout",
     "output_type": "stream",
     "text": [
      "('0.weight', Parameter containing:\n",
      "tensor([[ 0.5365, -0.5862],\n",
      "        [ 0.6011, -0.4860]], requires_grad=True))\n",
      " \n",
      "('0.bias', Parameter containing:\n",
      "tensor([ 0.2848, -0.3389], requires_grad=True))\n",
      " \n",
      "('1.weight', Parameter containing:\n",
      "tensor([[-0.3340,  0.3096],\n",
      "        [-0.2939,  0.1643]], requires_grad=True))\n",
      " \n",
      "('1.bias', Parameter containing:\n",
      "tensor([ 0.6291, -0.3056], requires_grad=True))\n",
      " \n",
      "('2.weight', Parameter containing:\n",
      "tensor([[ 0.2913, -0.4547],\n",
      "        [-0.4417, -0.2405],\n",
      "        [ 0.0106, -0.2082]], requires_grad=True))\n",
      " \n",
      "('2.bias', Parameter containing:\n",
      "tensor([-0.3780, -0.6103,  0.5099], requires_grad=True))\n",
      " \n"
     ]
    }
   ],
   "source": [
    "# check out parameters\n",
    "for p in deepnet.named_parameters():\n",
    "    print(p)\n",
    "    print(\" \")"
   ]
  },
  {
   "cell_type": "code",
   "execution_count": 7,
   "id": "85ba1b1f-a9ba-4918-989b-6c3832d35689",
   "metadata": {},
   "outputs": [
    {
     "name": "stdout",
     "output_type": "stream",
     "text": [
      "There are 7 nodes in the wide network.\n",
      "There are 7 nodes in the deep network.\n"
     ]
    }
   ],
   "source": [
    "# count the no. of nodes ( = the no. of biases)\n",
    "\n",
    "# named_parameters() is an iterable that returns the tuple (name, numbers)\n",
    "numNodesInWide = 0\n",
    "for p in widenet.named_parameters():\n",
    "    if \"bias\" in p[0]: # p[0] contains the nameeg: \"0.bias\"\n",
    "        numNodesInWide += len(p[1]) # p[1] contains actual values\n",
    "\n",
    "numNodesInDeep = 0\n",
    "for paramName, paramVect in deepnet.named_parameters():\n",
    "    if \"bias\" in paramName:\n",
    "        numNodesInDeep += len(paramVect)\n",
    "\n",
    "print(\"There are %s nodes in the wide network.\" %numNodesInWide)\n",
    "print(\"There are %s nodes in the deep network.\" %numNodesInDeep)"
   ]
  },
  {
   "cell_type": "code",
   "execution_count": 9,
   "id": "07517fe1-19b5-48c4-a57c-c69cceb882d8",
   "metadata": {},
   "outputs": [
    {
     "name": "stdout",
     "output_type": "stream",
     "text": [
      "Parameter containing:\n",
      "tensor([[ 0.5365, -0.5862],\n",
      "        [ 0.6011, -0.4860]], requires_grad=True)\n",
      " \n",
      "Parameter containing:\n",
      "tensor([ 0.2848, -0.3389], requires_grad=True)\n",
      " \n",
      "Parameter containing:\n",
      "tensor([[-0.3340,  0.3096],\n",
      "        [-0.2939,  0.1643]], requires_grad=True)\n",
      " \n",
      "Parameter containing:\n",
      "tensor([ 0.6291, -0.3056], requires_grad=True)\n",
      " \n",
      "Parameter containing:\n",
      "tensor([[ 0.2913, -0.4547],\n",
      "        [-0.4417, -0.2405],\n",
      "        [ 0.0106, -0.2082]], requires_grad=True)\n",
      " \n",
      "Parameter containing:\n",
      "tensor([-0.3780, -0.6103,  0.5099], requires_grad=True)\n",
      " \n"
     ]
    }
   ],
   "source": [
    "# just the parameters\n",
    "for p in deepnet.parameters():\n",
    "    print(p)\n",
    "    print(\" \")"
   ]
  },
  {
   "cell_type": "code",
   "execution_count": 11,
   "id": "bd2c64b5-67d4-4e64-87d4-6e071804c19c",
   "metadata": {},
   "outputs": [
    {
     "name": "stdout",
     "output_type": "stream",
     "text": [
      "This piece has 8 parameters\n",
      "This piece has 4 parameters\n",
      "This piece has 12 parameters\n",
      "This piece has 3 parameters\n",
      "\n",
      "\n",
      "Total of 27 parameters\n"
     ]
    }
   ],
   "source": [
    "# now count the total number of trainable parameters\n",
    "nparams = 0\n",
    "for p in widenet.parameters():\n",
    "    if p.requires_grad:\n",
    "        print(\"This piece has %s parameters\" %p.numel())\n",
    "        nparams += p.numel()\n",
    "\n",
    "print(\"\\n\\nTotal of %s parameters\" %nparams)"
   ]
  },
  {
   "cell_type": "code",
   "execution_count": 14,
   "id": "fcba7d72-b75b-4b91-89a5-c82ed0861a89",
   "metadata": {},
   "outputs": [
    {
     "name": "stdout",
     "output_type": "stream",
     "text": [
      "Widenet has 27 parameters\n",
      "Widenet has 21 parameters\n"
     ]
    }
   ],
   "source": [
    "# using list comprehension\n",
    "\n",
    "nparams = np.sum([p.numel() for p in widenet.parameters() if p.requires_grad])\n",
    "print(\"Widenet has %s parameters\" %nparams)\n",
    "\n",
    "nparams = np.sum([p.numel() for p in deepnet.parameters() if p.requires_grad])\n",
    "print(\"Widenet has %s parameters\" %nparams)"
   ]
  },
  {
   "cell_type": "code",
   "execution_count": 17,
   "id": "3cc21005-c577-453a-9aed-8e451d6a0c80",
   "metadata": {},
   "outputs": [
    {
     "name": "stdout",
     "output_type": "stream",
     "text": [
      "----------------------------------------------------------------\n",
      "        Layer (type)               Output Shape         Param #\n",
      "================================================================\n",
      "            Linear-1                 [-1, 1, 4]              12\n",
      "            Linear-2                 [-1, 1, 3]              15\n",
      "================================================================\n",
      "Total params: 27\n",
      "Trainable params: 27\n",
      "Non-trainable params: 0\n",
      "----------------------------------------------------------------\n",
      "Input size (MB): 0.00\n",
      "Forward/backward pass size (MB): 0.00\n",
      "Params size (MB): 0.00\n",
      "Estimated Total Size (MB): 0.00\n",
      "----------------------------------------------------------------\n"
     ]
    }
   ],
   "source": [
    "# a nice simple way to print out model info\n",
    "from torchsummary import summary\n",
    "summary(widenet, (1,2))"
   ]
  },
  {
   "cell_type": "code",
   "execution_count": null,
   "id": "2be4cb87-8962-45c8-a4e5-c4ab9e3fb98d",
   "metadata": {},
   "outputs": [],
   "source": []
  }
 ],
 "metadata": {
  "kernelspec": {
   "display_name": "Python 3 (ipykernel)",
   "language": "python",
   "name": "python3"
  },
  "language_info": {
   "codemirror_mode": {
    "name": "ipython",
    "version": 3
   },
   "file_extension": ".py",
   "mimetype": "text/x-python",
   "name": "python",
   "nbconvert_exporter": "python",
   "pygments_lexer": "ipython3",
   "version": "3.13.0"
  }
 },
 "nbformat": 4,
 "nbformat_minor": 5
}
