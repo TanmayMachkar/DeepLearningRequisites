{
  "nbformat": 4,
  "nbformat_minor": 0,
  "metadata": {
    "colab": {
      "provenance": [],
      "gpuType": "V28"
    },
    "kernelspec": {
      "name": "python3",
      "display_name": "Python 3"
    },
    "language_info": {
      "name": "python"
    },
    "accelerator": "TPU"
  },
  "cells": [
    {
      "cell_type": "code",
      "execution_count": 1,
      "metadata": {
        "colab": {
          "base_uri": "https://localhost:8080/"
        },
        "id": "pGadUjsZmuaS",
        "outputId": "7f6b0391-bc09-45de-a073-b0c96f412086"
      },
      "outputs": [
        {
          "output_type": "stream",
          "name": "stderr",
          "text": [
            "<ipython-input-1-3242556460>:14: DeprecationWarning: `set_matplotlib_formats` is deprecated since IPython 7.23, directly use `matplotlib_inline.backend_inline.set_matplotlib_formats()`\n",
            "  display.set_matplotlib_formats(\"svg\")\n"
          ]
        }
      ],
      "source": [
        "import numpy as np\n",
        "\n",
        "import torch\n",
        "import torch.nn as nn\n",
        "import torch.nn.functional as F\n",
        "from torch.utils.data import DataLoader, TensorDataset\n",
        "from sklearn.model_selection import train_test_split\n",
        "import copy\n",
        "\n",
        "import torchvision\n",
        "\n",
        "import matplotlib.pyplot as plt\n",
        "from IPython import display\n",
        "display.set_matplotlib_formats(\"svg\")\n",
        "import pandas as pd"
      ]
    },
    {
      "cell_type": "code",
      "source": [
        "device = torch.device('cuda' if torch.cuda.is_available() else 'cpu')"
      ],
      "metadata": {
        "id": "VZ5e6Qz3m3ZM"
      },
      "execution_count": 2,
      "outputs": []
    },
    {
      "cell_type": "code",
      "source": [
        "cdata = torchvision.datasets.EMNIST(root = 'emnist', split = 'letters', download = True)"
      ],
      "metadata": {
        "colab": {
          "base_uri": "https://localhost:8080/"
        },
        "id": "i4K_bsfwoDb5",
        "outputId": "b363316d-14c1-4052-c395-533ee23fe7cd"
      },
      "execution_count": 3,
      "outputs": [
        {
          "output_type": "stream",
          "name": "stderr",
          "text": [
            "100%|██████████| 562M/562M [00:02<00:00, 246MB/s]\n"
          ]
        }
      ]
    },
    {
      "cell_type": "code",
      "source": [
        "print(cdata.classes)\n",
        "print(str(len(cdata.classes)) + 'classes')\n",
        "\n",
        "print('\\nData size: ')\n",
        "print(cdata.data.shape)\n",
        "\n",
        "# transform 4d tensor for conv layers (and transform from int8 to float)\n",
        "images = cdata.data.view([124800, 1, 28, 28]).float()\n",
        "print('\\nTensor data: ')\n",
        "print(images.shape)"
      ],
      "metadata": {
        "colab": {
          "base_uri": "https://localhost:8080/"
        },
        "id": "ZPo7ywx_GFmQ",
        "outputId": "d7561567-510c-41db-9549-098e6f8d96d7"
      },
      "execution_count": 4,
      "outputs": [
        {
          "output_type": "stream",
          "name": "stdout",
          "text": [
            "['N/A', 'a', 'b', 'c', 'd', 'e', 'f', 'g', 'h', 'i', 'j', 'k', 'l', 'm', 'n', 'o', 'p', 'q', 'r', 's', 't', 'u', 'v', 'w', 'x', 'y', 'z']\n",
            "27classes\n",
            "\n",
            "Data size: \n",
            "torch.Size([124800, 28, 28])\n",
            "\n",
            "Tensor data: \n",
            "torch.Size([124800, 1, 28, 28])\n"
          ]
        }
      ]
    },
    {
      "cell_type": "code",
      "source": [
        "# brief aside: class 'N/A' doesn't exist in the data\n",
        "print(torch.sum(cdata.targets == 0))\n",
        "\n",
        "# however, it causes problem in one-hot encoding\n",
        "torch.unique(cdata.targets)"
      ],
      "metadata": {
        "colab": {
          "base_uri": "https://localhost:8080/"
        },
        "id": "m5BvHzLCHR_p",
        "outputId": "0a2b56b5-68b8-40a2-c7e9-ecc29d015de2"
      },
      "execution_count": 5,
      "outputs": [
        {
          "output_type": "stream",
          "name": "stdout",
          "text": [
            "tensor(0)\n"
          ]
        },
        {
          "output_type": "execute_result",
          "data": {
            "text/plain": [
              "tensor([ 1,  2,  3,  4,  5,  6,  7,  8,  9, 10, 11, 12, 13, 14, 15, 16, 17, 18,\n",
              "        19, 20, 21, 22, 23, 24, 25, 26])"
            ]
          },
          "metadata": {},
          "execution_count": 5
        }
      ]
    },
    {
      "cell_type": "code",
      "source": [
        "cdata.class_to_idx"
      ],
      "metadata": {
        "colab": {
          "base_uri": "https://localhost:8080/"
        },
        "id": "SUPQHZmaIIuS",
        "outputId": "11b11c08-0b11-4e70-ae7e-df193a8c82f5"
      },
      "execution_count": 6,
      "outputs": [
        {
          "output_type": "execute_result",
          "data": {
            "text/plain": [
              "{'N/A': 0,\n",
              " 'a': 1,\n",
              " 'b': 2,\n",
              " 'c': 3,\n",
              " 'd': 4,\n",
              " 'e': 5,\n",
              " 'f': 6,\n",
              " 'g': 7,\n",
              " 'h': 8,\n",
              " 'i': 9,\n",
              " 'j': 10,\n",
              " 'k': 11,\n",
              " 'l': 12,\n",
              " 'm': 13,\n",
              " 'n': 14,\n",
              " 'o': 15,\n",
              " 'p': 16,\n",
              " 'q': 17,\n",
              " 'r': 18,\n",
              " 's': 19,\n",
              " 't': 20,\n",
              " 'u': 21,\n",
              " 'v': 22,\n",
              " 'w': 23,\n",
              " 'x': 24,\n",
              " 'y': 25,\n",
              " 'z': 26}"
            ]
          },
          "metadata": {},
          "execution_count": 6
        }
      ]
    },
    {
      "cell_type": "code",
      "source": [
        "# so therefore we'll remove it and subtract 1 from the original\n",
        "\n",
        "# remove the first class category\n",
        "letterCategories = cdata.classes[1:]\n",
        "\n",
        "# relabel labels to start from 0\n",
        "labels = copy.deepcopy(cdata.targets) - 1\n",
        "print(labels.shape)\n",
        "\n",
        "print(torch.sum(labels == 0))\n",
        "print(torch.unique(labels))"
      ],
      "metadata": {
        "colab": {
          "base_uri": "https://localhost:8080/"
        },
        "id": "yHmrvbxEIUNm",
        "outputId": "1167a0f9-36f2-4061-c7f8-18c22f937735"
      },
      "execution_count": 7,
      "outputs": [
        {
          "output_type": "stream",
          "name": "stdout",
          "text": [
            "torch.Size([124800])\n",
            "tensor(4800)\n",
            "tensor([ 0,  1,  2,  3,  4,  5,  6,  7,  8,  9, 10, 11, 12, 13, 14, 15, 16, 17,\n",
            "        18, 19, 20, 21, 22, 23, 24, 25])\n"
          ]
        }
      ]
    },
    {
      "cell_type": "code",
      "source": [
        "# next issue: normalize images?\n",
        "plt.hist(images[:10, :, :, :].view(1, -1).detach(), 40)\n",
        "plt.title('Raw values')\n",
        "plt.show()\n",
        "\n",
        "# yes we need to\n",
        "images /= torch.max(images)\n",
        "\n",
        "plt.hist(images[:10, :, :, :].view(1, -1).detach(), 40)\n",
        "plt.title('After normalization')\n",
        "plt.show()"
      ],
      "metadata": {
        "id": "5ZCw4imiJA8r"
      },
      "execution_count": null,
      "outputs": []
    },
    {
      "cell_type": "code",
      "source": [],
      "metadata": {
        "id": "e2gyb5JjJ2Bs"
      },
      "execution_count": null,
      "outputs": []
    }
  ]
}