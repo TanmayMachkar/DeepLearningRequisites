{
 "cells": [
  {
   "cell_type": "code",
   "execution_count": 12,
   "id": "ebfe25ac-e42f-4378-93a5-7dde4db499b1",
   "metadata": {},
   "outputs": [],
   "source": [
    "import numpy as np\n",
    "import torch"
   ]
  },
  {
   "cell_type": "code",
   "execution_count": 13,
   "id": "a2ff66c6-dcee-43a9-aae9-8d2e073a9116",
   "metadata": {},
   "outputs": [
    {
     "name": "stdout",
     "output_type": "stream",
     "text": [
      "[[1 2 3 4]]\n",
      " \n",
      "[[1]\n",
      " [2]\n",
      " [3]\n",
      " [4]]\n",
      " \n",
      "[[1 2 3 4]]\n"
     ]
    }
   ],
   "source": [
    "#create a vector\n",
    "nv = np.array([ [1, 2, 3, 4] ])\n",
    "print(nv), print(\" \")\n",
    "\n",
    "# transpose it\n",
    "print(nv.T), print(\" \")\n",
    "\n",
    "# transpose the transpose\n",
    "nvT = nv.T\n",
    "print(nvT.T)"
   ]
  },
  {
   "cell_type": "code",
   "execution_count": 14,
   "id": "e3c516b0-7c7c-49d3-a816-50ff821db0a2",
   "metadata": {},
   "outputs": [
    {
     "name": "stdout",
     "output_type": "stream",
     "text": [
      "[[1 2 3 4]\n",
      " [5 6 7 8]]\n",
      " \n",
      "[[1 5]\n",
      " [2 6]\n",
      " [3 7]\n",
      " [4 8]]\n",
      " \n",
      "[[1 2 3 4]\n",
      " [5 6 7 8]]\n"
     ]
    }
   ],
   "source": [
    "#create a matrix\n",
    "nM = np.array([ [1, 2, 3, 4], [5, 6, 7, 8] ])\n",
    "print(nM), print(\" \")\n",
    "\n",
    "# transpose it\n",
    "print(nM.T), print(\" \")\n",
    "\n",
    "# transpose the transpose\n",
    "nMT = nM.T\n",
    "print(nMT.T)"
   ]
  },
  {
   "cell_type": "code",
   "execution_count": 15,
   "id": "37447da7-2d52-4b10-a533-8ee61fa9594c",
   "metadata": {},
   "outputs": [
    {
     "name": "stdout",
     "output_type": "stream",
     "text": [
      "tensor([[1, 2, 3, 4]])\n",
      " \n",
      "tensor([[1],\n",
      "        [2],\n",
      "        [3],\n",
      "        [4]])\n",
      " \n",
      "tensor([[1, 2, 3, 4]])\n"
     ]
    }
   ],
   "source": [
    "#### Using pytorch\n",
    "\n",
    "#create a vector\n",
    "tv = torch.tensor([ [1, 2, 3, 4] ])\n",
    "print(tv), print(\" \")\n",
    "\n",
    "# transpose it\n",
    "print(tv.T), print(\" \")\n",
    "\n",
    "# transpose the transpose\n",
    "tvT = tv.T\n",
    "print(tvT.T)"
   ]
  },
  {
   "cell_type": "code",
   "execution_count": 16,
   "id": "3ab5bd6a-d767-40a1-b35b-e79de4ac0e30",
   "metadata": {},
   "outputs": [
    {
     "name": "stdout",
     "output_type": "stream",
     "text": [
      "tensor([[1, 2, 3, 4],\n",
      "        [5, 6, 7, 8]])\n",
      " \n",
      "tensor([[1, 5],\n",
      "        [2, 6],\n",
      "        [3, 7],\n",
      "        [4, 8]])\n",
      " \n",
      "tensor([[1, 2, 3, 4],\n",
      "        [5, 6, 7, 8]])\n"
     ]
    }
   ],
   "source": [
    "# Using pytorch\n",
    "\n",
    "#create a matrix\n",
    "tM = torch.tensor([ [1, 2, 3, 4], [5, 6, 7, 8] ])\n",
    "print(tM), print(\" \")\n",
    "\n",
    "# transpose it\n",
    "print(tM.T), print(\" \")\n",
    "\n",
    "# transpose the transpose\n",
    "tMT = tM.T\n",
    "print(tMT.T)"
   ]
  },
  {
   "cell_type": "code",
   "execution_count": null,
   "id": "46eaee49-314d-4ac6-8b8e-ddf9a7103ef2",
   "metadata": {},
   "outputs": [],
   "source": [
    "print()"
   ]
  }
 ],
 "metadata": {
  "kernelspec": {
   "display_name": "Python 3 (ipykernel)",
   "language": "python",
   "name": "python3"
  },
  "language_info": {
   "codemirror_mode": {
    "name": "ipython",
    "version": 3
   },
   "file_extension": ".py",
   "mimetype": "text/x-python",
   "name": "python",
   "nbconvert_exporter": "python",
   "pygments_lexer": "ipython3",
   "version": "3.13.0"
  }
 },
 "nbformat": 4,
 "nbformat_minor": 5
}
