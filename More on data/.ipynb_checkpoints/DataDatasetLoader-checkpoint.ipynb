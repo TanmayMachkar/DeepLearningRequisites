{
 "cells": [
  {
   "cell_type": "code",
   "execution_count": 1,
   "id": "3f776400-38d9-4fbe-8ba2-0a4a48736c76",
   "metadata": {},
   "outputs": [],
   "source": [
    "import numpy as np\n",
    "import torch\n",
    "from torch.utils.data import DataLoader, TensorDataset"
   ]
  },
  {
   "cell_type": "code",
   "execution_count": 2,
   "id": "9023df27-46c9-4f7b-a41b-d281b98fd40c",
   "metadata": {},
   "outputs": [],
   "source": [
    "# create some data in numpy\n",
    "\n",
    "nObservations = 100\n",
    "nFeatures = 20\n",
    "\n",
    "data = np.random.randn(nObservations, nFeatures)"
   ]
  },
  {
   "cell_type": "code",
   "execution_count": 4,
   "id": "6be98e9d-1f26-4d3f-97ee-396246498f2d",
   "metadata": {},
   "outputs": [
    {
     "name": "stdout",
     "output_type": "stream",
     "text": [
      "Numpy data:\n",
      "<class 'numpy.ndarray'>\n",
      "(100, 20)\n",
      "float64\n",
      " \n",
      "Tensor data:\n",
      "<class 'torch.Tensor'>\n",
      "torch.Size([100, 20])\n",
      "torch.float64\n",
      " \n"
     ]
    }
   ],
   "source": [
    "# Convert to pytorch tensor\n",
    "dataT = torch.tensor(data)\n",
    "\n",
    "# print out some information\n",
    "print(\"Numpy data:\")\n",
    "print(type(data))\n",
    "print(data.shape)\n",
    "print(data.dtype)\n",
    "print(\" \")\n",
    "\n",
    "print(\"Tensor data:\")\n",
    "print(type(dataT))\n",
    "print(dataT.size())\n",
    "print(dataT.dtype)\n",
    "print(\" \")"
   ]
  },
  {
   "cell_type": "code",
   "execution_count": 6,
   "id": "1e8d4029-e2e4-4145-85ac-bf9b3737e2f1",
   "metadata": {},
   "outputs": [
    {
     "name": "stdout",
     "output_type": "stream",
     "text": [
      "torch.float32\n",
      "torch.int64\n"
     ]
    }
   ],
   "source": [
    "# Sometimes you need to convert data types\n",
    "dataT2 = torch.tensor(data).float()\n",
    "print(dataT2.dtype)\n",
    "\n",
    "# \"long\" is for ints\n",
    "dataT3 = torch.tensor(data).long()\n",
    "print(dataT3.dtype)"
   ]
  },
  {
   "cell_type": "code",
   "execution_count": 9,
   "id": "568cb8df-c761-4c8e-9f33-1d07e28e8ba8",
   "metadata": {},
   "outputs": [
    {
     "data": {
      "text/plain": [
       "(tensor([[ 0.2200,  1.0642,  0.2388,  ...,  1.0292,  0.2233,  1.0167],\n",
       "         [-0.7413,  1.7400, -1.4753,  ..., -0.7594, -0.1031, -1.1339],\n",
       "         [-0.4953,  1.9421, -1.7871,  ...,  0.5850, -1.2120, -0.3330],\n",
       "         ...,\n",
       "         [-0.4359, -0.2080, -0.7729,  ...,  0.8956, -0.9071, -0.0758],\n",
       "         [ 0.0303, -0.3487, -1.1710,  ...,  1.0197, -1.4157,  1.0277],\n",
       "         [-0.7216,  1.8037,  0.4829,  ...,  2.0950,  0.3064,  0.6370]],\n",
       "        dtype=torch.float64),)"
      ]
     },
     "execution_count": 9,
     "metadata": {},
     "output_type": "execute_result"
    }
   ],
   "source": [
    "# convert tensor into Pytorch Datasets\n",
    "\n",
    "# dataset = TensorDataset(data) # not a tensor!\n",
    "dataset = TensorDataset(dataT)\n",
    "\n",
    "# dataset is a two element tuple comprising data, labels\n",
    "dataset.tensors # no labels yet"
   ]
  },
  {
   "cell_type": "code",
   "execution_count": 10,
   "id": "ddedabaa-8d5b-4221-bd13-1616192d0a99",
   "metadata": {},
   "outputs": [
    {
     "name": "stdout",
     "output_type": "stream",
     "text": [
      "tensor([[1.],\n",
      "        [1.],\n",
      "        [1.],\n",
      "        [1.],\n",
      "        [1.],\n",
      "        [1.],\n",
      "        [1.],\n",
      "        [1.],\n",
      "        [1.],\n",
      "        [1.],\n",
      "        [1.],\n",
      "        [1.],\n",
      "        [1.],\n",
      "        [1.],\n",
      "        [1.],\n",
      "        [1.],\n",
      "        [1.],\n",
      "        [1.],\n",
      "        [1.],\n",
      "        [1.],\n",
      "        [1.],\n",
      "        [1.],\n",
      "        [1.],\n",
      "        [1.],\n",
      "        [1.],\n",
      "        [2.],\n",
      "        [2.],\n",
      "        [2.],\n",
      "        [2.],\n",
      "        [2.],\n",
      "        [2.],\n",
      "        [2.],\n",
      "        [2.],\n",
      "        [2.],\n",
      "        [2.],\n",
      "        [2.],\n",
      "        [2.],\n",
      "        [2.],\n",
      "        [2.],\n",
      "        [2.],\n",
      "        [2.],\n",
      "        [2.],\n",
      "        [2.],\n",
      "        [2.],\n",
      "        [2.],\n",
      "        [2.],\n",
      "        [2.],\n",
      "        [2.],\n",
      "        [2.],\n",
      "        [2.],\n",
      "        [3.],\n",
      "        [3.],\n",
      "        [3.],\n",
      "        [3.],\n",
      "        [3.],\n",
      "        [3.],\n",
      "        [3.],\n",
      "        [3.],\n",
      "        [3.],\n",
      "        [3.],\n",
      "        [3.],\n",
      "        [3.],\n",
      "        [3.],\n",
      "        [3.],\n",
      "        [3.],\n",
      "        [3.],\n",
      "        [3.],\n",
      "        [3.],\n",
      "        [3.],\n",
      "        [3.],\n",
      "        [3.],\n",
      "        [3.],\n",
      "        [3.],\n",
      "        [3.],\n",
      "        [3.],\n",
      "        [4.],\n",
      "        [4.],\n",
      "        [4.],\n",
      "        [4.],\n",
      "        [4.],\n",
      "        [4.],\n",
      "        [4.],\n",
      "        [4.],\n",
      "        [4.],\n",
      "        [4.],\n",
      "        [4.],\n",
      "        [4.],\n",
      "        [4.],\n",
      "        [4.],\n",
      "        [4.],\n",
      "        [4.],\n",
      "        [4.],\n",
      "        [4.],\n",
      "        [4.],\n",
      "        [4.],\n",
      "        [4.],\n",
      "        [4.],\n",
      "        [4.],\n",
      "        [4.],\n",
      "        [4.]])\n",
      "torch.Size([100, 20])\n",
      "torch.Size([100, 1])\n",
      "(100,)\n"
     ]
    }
   ],
   "source": [
    "# let's try again with labels\n",
    "labels = torch.ceil(torch.linspace(.01, 4, nObservations))\n",
    "\n",
    "# transform to an actual matrix (column vector)\n",
    "labels = labels.reshape((len(labels), 1))\n",
    "print(labels)\n",
    "\n",
    "# now make another dataset\n",
    "dataset = TensorDataset(dataT, labels)\n",
    "print(dataset.tensors[0].size())\n",
    "print(dataset.tensors[1].size())\n",
    "\n",
    "# for comparison\n",
    "print(np.shape(np.random.randint(5, size = nObservations)))"
   ]
  },
  {
   "cell_type": "code",
   "execution_count": 12,
   "id": "23129174-0f91-4906-b812-7f4b1af4ae7e",
   "metadata": {},
   "outputs": [
    {
     "data": {
      "text/plain": [
       "torch.Size([100, 20])"
      ]
     },
     "execution_count": 12,
     "metadata": {},
     "output_type": "execute_result"
    }
   ],
   "source": [
    "# create a dataloader object\n",
    "batchsize = 25\n",
    "dataloader = DataLoader(dataset, batch_size = batchsize) # shuffle = True, drop_last = True)\n",
    "\n",
    "dataloader.dataset.tensors[0].size()"
   ]
  },
  {
   "cell_type": "code",
   "execution_count": 13,
   "id": "e50cc224-89b1-48fa-bdf7-36af291f2a6e",
   "metadata": {},
   "outputs": [
    {
     "name": "stdout",
     "output_type": "stream",
     "text": [
      "Batch Info:\n",
      "torch.Size([25, 20])\n",
      "torch.Size([25, 1])\n",
      " \n",
      "Batch Info:\n",
      "torch.Size([25, 20])\n",
      "torch.Size([25, 1])\n",
      " \n",
      "Batch Info:\n",
      "torch.Size([25, 20])\n",
      "torch.Size([25, 1])\n",
      " \n",
      "Batch Info:\n",
      "torch.Size([25, 20])\n",
      "torch.Size([25, 1])\n",
      " \n"
     ]
    }
   ],
   "source": [
    "# size of each batch\n",
    "for dat, labs in dataloader:\n",
    "    print(\"Batch Info:\")\n",
    "    print(dat.size())\n",
    "    print(labs.size())\n",
    "    print(\" \")"
   ]
  },
  {
   "cell_type": "code",
   "execution_count": 14,
   "id": "40c8041a-f239-4f8f-ba58-aac8880c826d",
   "metadata": {},
   "outputs": [
    {
     "name": "stdout",
     "output_type": "stream",
     "text": [
      "tensor([[1., 1., 1., 1., 1., 1., 1., 1., 1., 1., 1., 1., 1., 1., 1., 1., 1., 1.,\n",
      "         1., 1., 1., 1., 1., 1., 1.]])\n",
      " \n",
      "tensor([[2., 2., 2., 2., 2., 2., 2., 2., 2., 2., 2., 2., 2., 2., 2., 2., 2., 2.,\n",
      "         2., 2., 2., 2., 2., 2., 2.]])\n",
      " \n",
      "tensor([[3., 3., 3., 3., 3., 3., 3., 3., 3., 3., 3., 3., 3., 3., 3., 3., 3., 3.,\n",
      "         3., 3., 3., 3., 3., 3., 3.]])\n",
      " \n",
      "tensor([[4., 4., 4., 4., 4., 4., 4., 4., 4., 4., 4., 4., 4., 4., 4., 4., 4., 4.,\n",
      "         4., 4., 4., 4., 4., 4., 4.]])\n",
      " \n"
     ]
    }
   ],
   "source": [
    "# inspect the labels\n",
    "for dat, labs in dataloader:\n",
    "    print(labs.T)\n",
    "    print(\" \")"
   ]
  },
  {
   "cell_type": "code",
   "execution_count": 15,
   "id": "d9d61063-6c20-4988-b4b8-c716328fd926",
   "metadata": {},
   "outputs": [
    {
     "name": "stdout",
     "output_type": "stream",
     "text": [
      "tensor([[1., 3., 4., 4., 2., 2., 3., 2., 4., 3., 1., 2., 1., 3., 3., 3., 2., 4.,\n",
      "         4., 2., 3., 4., 3., 1., 4.]])\n",
      " \n",
      "tensor([[1., 2., 4., 3., 3., 1., 1., 3., 2., 3., 3., 2., 4., 4., 4., 1., 3., 1.,\n",
      "         1., 4., 4., 2., 2., 2., 1.]])\n",
      " \n",
      "tensor([[4., 4., 3., 4., 1., 3., 3., 3., 1., 2., 2., 4., 1., 2., 4., 2., 4., 2.,\n",
      "         4., 2., 2., 1., 4., 1., 3.]])\n",
      " \n",
      "tensor([[1., 2., 4., 2., 3., 4., 3., 1., 1., 4., 2., 1., 1., 1., 3., 4., 3., 1.,\n",
      "         2., 2., 1., 3., 3., 2., 1.]])\n",
      " \n"
     ]
    }
   ],
   "source": [
    "# try again with shuffle = True\n",
    "dataloader = DataLoader(dataset, batch_size = batchsize, shuffle = True)\n",
    "\n",
    "for dat, labs in dataloader:\n",
    "    print(labs.T)\n",
    "    print(\" \")"
   ]
  },
  {
   "cell_type": "code",
   "execution_count": 16,
   "id": "d1901dd6-ccb3-4e1f-9124-f3013440bce8",
   "metadata": {},
   "outputs": [
    {
     "data": {
      "text/plain": [
       "tensor([[3.],\n",
       "        [4.],\n",
       "        [2.],\n",
       "        [4.],\n",
       "        [2.],\n",
       "        [1.],\n",
       "        [4.],\n",
       "        [4.],\n",
       "        [3.],\n",
       "        [1.],\n",
       "        [1.],\n",
       "        [1.],\n",
       "        [2.],\n",
       "        [4.],\n",
       "        [2.],\n",
       "        [3.],\n",
       "        [3.],\n",
       "        [2.],\n",
       "        [4.],\n",
       "        [2.],\n",
       "        [3.],\n",
       "        [3.],\n",
       "        [3.],\n",
       "        [1.],\n",
       "        [3.]])"
      ]
     },
     "execution_count": 16,
     "metadata": {},
     "output_type": "execute_result"
    }
   ],
   "source": [
    "# to get only one batch (eg: for testing)\n",
    "dat, labs = next(iter(dataloader))\n",
    "labs"
   ]
  },
  {
   "cell_type": "code",
   "execution_count": null,
   "id": "86fa5894-ac08-4a44-87f2-dbcc1cbc023e",
   "metadata": {},
   "outputs": [],
   "source": []
  }
 ],
 "metadata": {
  "kernelspec": {
   "display_name": "Python 3 (ipykernel)",
   "language": "python",
   "name": "python3"
  },
  "language_info": {
   "codemirror_mode": {
    "name": "ipython",
    "version": 3
   },
   "file_extension": ".py",
   "mimetype": "text/x-python",
   "name": "python",
   "nbconvert_exporter": "python",
   "pygments_lexer": "ipython3",
   "version": "3.13.0"
  }
 },
 "nbformat": 4,
 "nbformat_minor": 5
}
