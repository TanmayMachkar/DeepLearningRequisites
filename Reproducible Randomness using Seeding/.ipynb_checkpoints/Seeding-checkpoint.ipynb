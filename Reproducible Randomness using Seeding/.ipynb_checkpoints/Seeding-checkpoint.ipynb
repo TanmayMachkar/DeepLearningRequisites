{
 "cells": [
  {
   "cell_type": "code",
   "execution_count": 1,
   "id": "6d19baa0-c4d5-49be-b5e1-cc63e76355c7",
   "metadata": {},
   "outputs": [],
   "source": [
    "import numpy as np\n",
    "import torch"
   ]
  },
  {
   "cell_type": "code",
   "execution_count": 2,
   "id": "79c167a2-7e1f-4c39-a841-afb6c9ca3567",
   "metadata": {},
   "outputs": [
    {
     "data": {
      "text/plain": [
       "array([-0.29774812,  1.89049454,  0.67407053, -0.02287596, -2.11106418])"
      ]
     },
     "execution_count": 2,
     "metadata": {},
     "output_type": "execute_result"
    }
   ],
   "source": [
    "# generate a few random numbers\n",
    "np.random.randn(5)"
   ]
  },
  {
   "cell_type": "code",
   "execution_count": 4,
   "id": "348dbb24-9c28-4a27-ae09-a1cbd4de9244",
   "metadata": {},
   "outputs": [
    {
     "name": "stdout",
     "output_type": "stream",
     "text": [
      "[ 0.27626589 -1.85462808  0.62390111  1.14531129  1.03719047]\n",
      "[ 1.88663893 -0.11169829 -0.36210134  0.14867505 -0.43778315]\n"
     ]
    }
   ],
   "source": [
    "# repeat after fixing the seed\n",
    "np.random.seed(17)\n",
    "print(np.random.randn(5))\n",
    "print(np.random.randn(5))"
   ]
  },
  {
   "cell_type": "code",
   "execution_count": 6,
   "id": "ac3f256d-4011-4d91-9bf0-d8cde1d5c663",
   "metadata": {},
   "outputs": [
    {
     "name": "stdout",
     "output_type": "stream",
     "text": [
      "[ 0.27626589 -1.85462808  0.62390111  1.14531129  1.03719047]\n",
      "[-0.24972681 -1.01951826  2.23461339  0.72764703  1.2921122 ]\n",
      "[ 1.88663893 -0.11169829 -0.36210134  0.14867505 -0.43778315]\n",
      "[ 1.15494929 -0.0015467  -0.11196868 -1.08136725  0.10265891]\n",
      "[-1.77528229  1.31487654 -0.47344805 -1.0922299  -0.25002744]\n"
     ]
    }
   ],
   "source": [
    "randseed1 = np.random.RandomState(17)\n",
    "randseed2 = np.random.RandomState(20210530)\n",
    "\n",
    "print(randseed1.randn(5)) # same sequence\n",
    "print(randseed2.randn(5)) # diff from above, but same each time\n",
    "print(randseed1.randn(5)) # same as two up\n",
    "print(randseed2.randn(5)) # same as two up\n",
    "print(np.random.randn(5)) # diff every time"
   ]
  },
  {
   "cell_type": "code",
   "execution_count": 7,
   "id": "1433b93d-dbf5-4698-973b-20b69d0794a9",
   "metadata": {},
   "outputs": [
    {
     "data": {
      "text/plain": [
       "tensor([ 0.3943, -1.2532, -0.7030, -1.0146, -0.9730])"
      ]
     },
     "execution_count": 7,
     "metadata": {},
     "output_type": "execute_result"
    }
   ],
   "source": [
    "## Using pytorch\n",
    "torch.randn(5)"
   ]
  },
  {
   "cell_type": "code",
   "execution_count": 8,
   "id": "29504889-49bc-41d8-848e-414f6e278996",
   "metadata": {},
   "outputs": [
    {
     "name": "stdout",
     "output_type": "stream",
     "text": [
      "tensor([-1.4135,  0.2336,  0.0340,  0.3499, -0.0145])\n",
      "[-0.9822943   1.03126909  0.49133378 -0.4466466  -0.80636008]\n"
     ]
    }
   ],
   "source": [
    "torch.manual_seed(17)\n",
    "print(torch.randn(5))\n",
    "\n",
    "# torch's seed doesn't spread to numpy\n",
    "print(np.random.randn(5))"
   ]
  },
  {
   "cell_type": "code",
   "execution_count": null,
   "id": "a4203be7-1b15-47a4-8061-a5aa80c4d420",
   "metadata": {},
   "outputs": [],
   "source": []
  }
 ],
 "metadata": {
  "kernelspec": {
   "display_name": "Python 3 (ipykernel)",
   "language": "python",
   "name": "python3"
  },
  "language_info": {
   "codemirror_mode": {
    "name": "ipython",
    "version": 3
   },
   "file_extension": ".py",
   "mimetype": "text/x-python",
   "name": "python",
   "nbconvert_exporter": "python",
   "pygments_lexer": "ipython3",
   "version": "3.13.0"
  }
 },
 "nbformat": 4,
 "nbformat_minor": 5
}
