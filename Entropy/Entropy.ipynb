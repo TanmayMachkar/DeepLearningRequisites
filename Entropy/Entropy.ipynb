{
 "cells": [
  {
   "cell_type": "code",
   "execution_count": 1,
   "id": "9df6895b-0a40-4fc6-b897-ee3dcfa7f274",
   "metadata": {},
   "outputs": [],
   "source": [
    "import numpy as np\n",
    "import matplotlib.pyplot as plt"
   ]
  },
  {
   "cell_type": "code",
   "execution_count": 2,
   "id": "11b5518b-535f-4a6f-a214-c343ec73e83c",
   "metadata": {},
   "outputs": [
    {
     "name": "stdout",
     "output_type": "stream",
     "text": [
      "Wrong entropy: 0.34657359027997264\n"
     ]
    }
   ],
   "source": [
    "# probab of an event happening\n",
    "p = .25\n",
    "\n",
    "# not the correct formula\n",
    "H = -( p*np.log(p) )\n",
    "print(\"Wrong entropy: \" + str(H))"
   ]
  },
  {
   "cell_type": "code",
   "execution_count": 5,
   "id": "13fa0d9d-1f8c-4c85-abbb-c16edfb6ae55",
   "metadata": {},
   "outputs": [
    {
     "name": "stdout",
     "output_type": "stream",
     "text": [
      "Correct entropy: 0.5623351446188083\n"
     ]
    }
   ],
   "source": [
    "# the correct way to compute entropy\n",
    "x = [.25, .75]\n",
    "# p = .25, q = .75, prob of occuring and not occuring\n",
    "\n",
    "H = 0\n",
    "for p in x:\n",
    "    H -= p*np.log(p)\n",
    "\n",
    "print(\"Correct entropy: \" + str(H))"
   ]
  },
  {
   "cell_type": "code",
   "execution_count": 7,
   "id": "159075e6-4916-4d33-9146-381f75770ee1",
   "metadata": {},
   "outputs": [
    {
     "name": "stdout",
     "output_type": "stream",
     "text": [
      "Correct entropy: 0.5623351446188083\n"
     ]
    }
   ],
   "source": [
    "# also correct, wwritten out for N = 2 events\n",
    "\n",
    "# aka binary cross entropy formula\n",
    "H = -( p*np.log(p) + (1 - p)*np.log(1 - p) )\n",
    "print(\"Correct entropy: \" + str(H))"
   ]
  },
  {
   "cell_type": "code",
   "execution_count": 8,
   "id": "725babc2-e5a4-4a99-b3ca-7be7d048aac8",
   "metadata": {},
   "outputs": [
    {
     "name": "stdout",
     "output_type": "stream",
     "text": [
      "Cross entropy: 1.3862943611198906\n"
     ]
    }
   ],
   "source": [
    "## Cross Entropy\n",
    "\n",
    "# note: all probs must sum to 1\n",
    "p = [1, 0] # It is or it's not a cat\n",
    "q = [ .25, .75] # model saying it is or it's not a cat\n",
    "\n",
    "H = 0\n",
    "for i in range(len(p)):\n",
    "    H -= p[i]*np.log(q[i])\n",
    "\n",
    "print(\"Cross entropy: \" + str(H))"
   ]
  },
  {
   "cell_type": "code",
   "execution_count": 10,
   "id": "5e3b6d23-21f2-4665-9d86-b5a83ddf07b1",
   "metadata": {},
   "outputs": [
    {
     "name": "stdout",
     "output_type": "stream",
     "text": [
      "Correct entropy: 1.3862943611198906\n",
      "Manually simplified: 1.3862943611198906\n"
     ]
    }
   ],
   "source": [
    "# also correct, written out for N = 2 events\n",
    "H = - (p[0]*np.log(q[0]) + p[1]*np.log(q[1]) )\n",
    "print(\"Correct entropy: \" + str(H))\n",
    "\n",
    "# simplification since p[1]*np.log(q[1]) = 0 since p[1] = 0\n",
    "H = -np.log(q[0])\n",
    "print(\"Manually simplified: \" + str(H))"
   ]
  },
  {
   "cell_type": "code",
   "execution_count": 12,
   "id": "a6b359bd-0e86-4455-b170-487b9c2aa4c8",
   "metadata": {},
   "outputs": [
    {
     "data": {
      "text/plain": [
       "tensor(1.3863)"
      ]
     },
     "execution_count": 12,
     "metadata": {},
     "output_type": "execute_result"
    }
   ],
   "source": [
    "## Using torch\n",
    "import torch\n",
    "import torch.nn.functional as F\n",
    "\n",
    "# note: inputs must be tensors\n",
    "q_tensor = torch.Tensor(q)\n",
    "p_tensor = torch.Tensor(p)\n",
    "\n",
    "F.binary_cross_entropy(q_tensor, p_tensor)"
   ]
  },
  {
   "cell_type": "code",
   "execution_count": null,
   "id": "ae5698f4-00d4-441d-97f7-f32291ecd20c",
   "metadata": {},
   "outputs": [],
   "source": []
  }
 ],
 "metadata": {
  "kernelspec": {
   "display_name": "Python 3 (ipykernel)",
   "language": "python",
   "name": "python3"
  },
  "language_info": {
   "codemirror_mode": {
    "name": "ipython",
    "version": 3
   },
   "file_extension": ".py",
   "mimetype": "text/x-python",
   "name": "python",
   "nbconvert_exporter": "python",
   "pygments_lexer": "ipython3",
   "version": "3.13.0"
  }
 },
 "nbformat": 4,
 "nbformat_minor": 5
}
