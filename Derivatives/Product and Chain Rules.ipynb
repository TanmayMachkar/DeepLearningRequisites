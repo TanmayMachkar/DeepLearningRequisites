{
 "cells": [
  {
   "cell_type": "code",
   "execution_count": 1,
   "id": "0d75aef5-fe79-4f26-b7ac-6139aa3d2c6b",
   "metadata": {},
   "outputs": [],
   "source": [
    "import numpy as np\n",
    "import sympy as sym\n",
    "from IPython.display import display"
   ]
  },
  {
   "cell_type": "code",
   "execution_count": 2,
   "id": "d32b8081-13c7-400a-9073-b7fb3badf914",
   "metadata": {},
   "outputs": [
    {
     "name": "stdout",
     "output_type": "stream",
     "text": [
      "The functions: \n"
     ]
    },
    {
     "data": {
      "text/latex": [
       "$\\displaystyle 2 x^{2}$"
      ],
      "text/plain": [
       "2*x**2"
      ]
     },
     "metadata": {},
     "output_type": "display_data"
    },
    {
     "data": {
      "text/latex": [
       "$\\displaystyle - 3 x^{4} + 4 x^{3}$"
      ],
      "text/plain": [
       "-3*x**4 + 4*x**3"
      ]
     },
     "metadata": {},
     "output_type": "display_data"
    },
    {
     "name": "stdout",
     "output_type": "stream",
     "text": [
      " \n",
      "Their derivatives: \n"
     ]
    },
    {
     "data": {
      "text/latex": [
       "$\\displaystyle 4 x$"
      ],
      "text/plain": [
       "4*x"
      ]
     },
     "metadata": {},
     "output_type": "display_data"
    },
    {
     "data": {
      "text/latex": [
       "$\\displaystyle - 12 x^{3} + 12 x^{2}$"
      ],
      "text/plain": [
       "-12*x**3 + 12*x**2"
      ]
     },
     "metadata": {},
     "output_type": "display_data"
    },
    {
     "name": "stdout",
     "output_type": "stream",
     "text": [
      " \n",
      "Manual product rule: \n"
     ]
    },
    {
     "data": {
      "text/latex": [
       "$\\displaystyle 2 x^{2} \\left(- 12 x^{3} + 12 x^{2}\\right) + 4 x \\left(- 3 x^{4} + 4 x^{3}\\right)$"
      ],
      "text/plain": [
       "2*x**2*(-12*x**3 + 12*x**2) + 4*x*(-3*x**4 + 4*x**3)"
      ]
     },
     "metadata": {},
     "output_type": "display_data"
    },
    {
     "name": "stdout",
     "output_type": "stream",
     "text": [
      " \n",
      "Via sympy: \n"
     ]
    },
    {
     "data": {
      "text/latex": [
       "$\\displaystyle 2 x^{2} \\left(- 12 x^{3} + 12 x^{2}\\right) + 4 x \\left(- 3 x^{4} + 4 x^{3}\\right)$"
      ],
      "text/plain": [
       "2*x**2*(-12*x**3 + 12*x**2) + 4*x*(-3*x**4 + 4*x**3)"
      ]
     },
     "metadata": {},
     "output_type": "display_data"
    },
    {
     "name": "stdout",
     "output_type": "stream",
     "text": [
      " \n",
      "The wrong way\n"
     ]
    },
    {
     "data": {
      "text/latex": [
       "$\\displaystyle 4 x \\left(- 12 x^{3} + 12 x^{2}\\right)$"
      ],
      "text/plain": [
       "4*x*(-12*x**3 + 12*x**2)"
      ]
     },
     "metadata": {},
     "output_type": "display_data"
    }
   ],
   "source": [
    "# create symbolic variables in sympy\n",
    "x = sym.symbols(\"x\")\n",
    "\n",
    "# create two functions\n",
    "fx = 2*x**2\n",
    "gx = 4*x**3 - 3*x**4\n",
    "\n",
    "# compute their individual derivatives\n",
    "df = sym.diff(fx)\n",
    "dg = sym.diff(gx)\n",
    "\n",
    "# apply the product rule manually\n",
    "manual = df*gx + fx*dg\n",
    "thewrongway = df*dg\n",
    "\n",
    "# via sympy\n",
    "viasympy = sym.diff(fx*gx)\n",
    "\n",
    "print(\"The functions: \")\n",
    "display(fx)\n",
    "display(gx)\n",
    "print(\" \")\n",
    "\n",
    "print(\"Their derivatives: \")\n",
    "display(df)\n",
    "display(dg)\n",
    "print(\" \")\n",
    "\n",
    "print(\"Manual product rule: \")\n",
    "display(manual)\n",
    "print(\" \")\n",
    "\n",
    "print(\"Via sympy: \")\n",
    "display(viasympy)\n",
    "print(\" \")\n",
    "\n",
    "print(\"The wrong way\")\n",
    "display(thewrongway)"
   ]
  },
  {
   "cell_type": "code",
   "execution_count": 3,
   "id": "a87d3637-3750-4c92-9f8c-fe2a123d6d14",
   "metadata": {},
   "outputs": [
    {
     "name": "stdout",
     "output_type": "stream",
     "text": [
      "The function: \n"
     ]
    },
    {
     "data": {
      "text/latex": [
       "$\\displaystyle \\left(4 x^{3} + x^{2}\\right)^{5}$"
      ],
      "text/plain": [
       "(4*x**3 + x**2)**5"
      ]
     },
     "metadata": {},
     "output_type": "display_data"
    },
    {
     "name": "stdout",
     "output_type": "stream",
     "text": [
      " \n",
      "It's derivative: \n"
     ]
    },
    {
     "data": {
      "text/latex": [
       "$\\displaystyle \\left(60 x^{2} + 10 x\\right) \\left(4 x^{3} + x^{2}\\right)^{4}$"
      ],
      "text/plain": [
       "(60*x**2 + 10*x)*(4*x**3 + x**2)**4"
      ]
     },
     "metadata": {},
     "output_type": "display_data"
    }
   ],
   "source": [
    "# repeat with the chain rule\n",
    "fx = ( x**2 + 4*x**3 )**5\n",
    "\n",
    "print(\"The function: \")\n",
    "display(fx)\n",
    "print(\" \")\n",
    "\n",
    "print(\"It's derivative: \")\n",
    "display(sym.diff(fx))"
   ]
  },
  {
   "cell_type": "code",
   "execution_count": null,
   "id": "842bfdac-0499-4d92-8f5d-7be5beaf7b74",
   "metadata": {},
   "outputs": [],
   "source": []
  }
 ],
 "metadata": {
  "kernelspec": {
   "display_name": "Python 3 (ipykernel)",
   "language": "python",
   "name": "python3"
  },
  "language_info": {
   "codemirror_mode": {
    "name": "ipython",
    "version": 3
   },
   "file_extension": ".py",
   "mimetype": "text/x-python",
   "name": "python",
   "nbconvert_exporter": "python",
   "pygments_lexer": "ipython3",
   "version": "3.13.0"
  }
 },
 "nbformat": 4,
 "nbformat_minor": 5
}
