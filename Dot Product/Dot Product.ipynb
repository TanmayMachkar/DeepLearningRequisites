{
 "cells": [
  {
   "cell_type": "code",
   "execution_count": 1,
   "id": "76c39110-6509-46b9-b21d-58a833230aaf",
   "metadata": {},
   "outputs": [],
   "source": [
    "import numpy as np\n",
    "import torch"
   ]
  },
  {
   "cell_type": "code",
   "execution_count": 3,
   "id": "7a444226-6894-4633-a137-8071832ee5b6",
   "metadata": {},
   "outputs": [
    {
     "name": "stdout",
     "output_type": "stream",
     "text": [
      "-2\n",
      "-2\n"
     ]
    }
   ],
   "source": [
    "## Using numpy\n",
    "\n",
    "# create a vector\n",
    "nv1 = np.array([1, 2, 3, 4])\n",
    "nv2 = np.array([0, 1, 0, -1])\n",
    "\n",
    "# dot product via function\n",
    "print(np.dot(nv1, nv2))\n",
    "\n",
    "# dot product via computation\n",
    "print(np.sum(nv1 * nv2))"
   ]
  },
  {
   "cell_type": "code",
   "execution_count": 4,
   "id": "fc19cc43-5b63-4a47-8770-44f32027aa5c",
   "metadata": {},
   "outputs": [
    {
     "name": "stdout",
     "output_type": "stream",
     "text": [
      "tensor(-2)\n",
      "tensor(-2)\n"
     ]
    }
   ],
   "source": [
    "## Using pytorch\n",
    "\n",
    "# create a vector\n",
    "tv1 = torch.tensor([1, 2, 3, 4])\n",
    "tv2 = torch.tensor([0, 1, 0, -1])\n",
    "\n",
    "# dot product via function\n",
    "print(torch.dot(tv1, tv2))\n",
    "\n",
    "# dot product via computation\n",
    "print(torch.sum(tv1 * tv2))"
   ]
  },
  {
   "cell_type": "code",
   "execution_count": null,
   "id": "1a3b8c21-a1ca-4d47-8a5b-d7def72952f4",
   "metadata": {},
   "outputs": [],
   "source": []
  }
 ],
 "metadata": {
  "kernelspec": {
   "display_name": "Python 3 (ipykernel)",
   "language": "python",
   "name": "python3"
  },
  "language_info": {
   "codemirror_mode": {
    "name": "ipython",
    "version": 3
   },
   "file_extension": ".py",
   "mimetype": "text/x-python",
   "name": "python",
   "nbconvert_exporter": "python",
   "pygments_lexer": "ipython3",
   "version": "3.13.0"
  }
 },
 "nbformat": 4,
 "nbformat_minor": 5
}
