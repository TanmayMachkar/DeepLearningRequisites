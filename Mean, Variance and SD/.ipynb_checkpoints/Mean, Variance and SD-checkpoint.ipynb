{
 "cells": [
  {
   "cell_type": "code",
   "execution_count": 1,
   "id": "46831ebd-f83b-4211-a197-959f6cbe69c2",
   "metadata": {},
   "outputs": [],
   "source": [
    "import numpy as np"
   ]
  },
  {
   "cell_type": "code",
   "execution_count": 2,
   "id": "4a818a27-160b-4e66-abc0-bec4bf49e97a",
   "metadata": {},
   "outputs": [
    {
     "name": "stdout",
     "output_type": "stream",
     "text": [
      "3.142857142857143\n",
      "3.142857142857143\n"
     ]
    }
   ],
   "source": [
    "# create a list of numbers to compute the mean and variance of\n",
    "x = [1, 2, 4, 6, 5, 4, 0]\n",
    "n = len(x)\n",
    "\n",
    "# compute the mean\n",
    "mean1 = np.mean(x)\n",
    "mean2 = np.sum(x) / n\n",
    "\n",
    "print(mean1)\n",
    "print(mean2)"
   ]
  },
  {
   "cell_type": "code",
   "execution_count": 7,
   "id": "a99013bb-0725-4c31-9aa7-e23b79d99233",
   "metadata": {},
   "outputs": [
    {
     "name": "stdout",
     "output_type": "stream",
     "text": [
      "4.122448979591836\n",
      "4.809523809523809\n"
     ]
    }
   ],
   "source": [
    "# variance\n",
    "\n",
    "var1 = np.var(x) # biased variance\n",
    "var2 = (1/ (n - 1))*np.sum((x - mean1)**2) # unbiased variance\n",
    "# var2 = (1/ (n))*np.sum((x - mean1)**2) # biased variance\n",
    "\n",
    "print(var1)\n",
    "print(var2)"
   ]
  },
  {
   "cell_type": "code",
   "execution_count": 9,
   "id": "d72e4c5e-a534-4683-82b9-921075dd616f",
   "metadata": {},
   "outputs": [
    {
     "name": "stdout",
     "output_type": "stream",
     "text": [
      "4.809523809523809\n",
      "4.809523809523809\n"
     ]
    }
   ],
   "source": [
    "var3 = np.var(x, ddof = 1) # unbiased variance\n",
    "\n",
    "print(var3)\n",
    "print(var2)"
   ]
  },
  {
   "cell_type": "code",
   "execution_count": 11,
   "id": "91271f07-9ea3-4d18-942f-9d1c6e6b6d0c",
   "metadata": {},
   "outputs": [
    {
     "name": "stdout",
     "output_type": "stream",
     "text": [
      "33.73139196\n",
      "33.734765436543654\n"
     ]
    }
   ],
   "source": [
    "# does it matter for large N\n",
    "\n",
    "N = 10000\n",
    "x = np.random.randint(0, high = 20, size = N)\n",
    "\n",
    "var0 = np.var(x, ddof = 0) # biased\n",
    "var1 = np.var(x, ddof = 1) # unbiased\n",
    "\n",
    "print(var0)\n",
    "print(var1)"
   ]
  },
  {
   "cell_type": "code",
   "execution_count": null,
   "id": "b0fd4c05-e743-403a-a253-6efbbd5f164f",
   "metadata": {},
   "outputs": [],
   "source": []
  }
 ],
 "metadata": {
  "kernelspec": {
   "display_name": "Python 3 (ipykernel)",
   "language": "python",
   "name": "python3"
  },
  "language_info": {
   "codemirror_mode": {
    "name": "ipython",
    "version": 3
   },
   "file_extension": ".py",
   "mimetype": "text/x-python",
   "name": "python",
   "nbconvert_exporter": "python",
   "pygments_lexer": "ipython3",
   "version": "3.13.0"
  }
 },
 "nbformat": 4,
 "nbformat_minor": 5
}
