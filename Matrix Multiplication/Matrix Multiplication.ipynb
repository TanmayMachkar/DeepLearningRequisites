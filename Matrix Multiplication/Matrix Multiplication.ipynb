{
 "cells": [
  {
   "cell_type": "code",
   "execution_count": 1,
   "id": "0023b754-b687-472f-962e-1fb7b0b3eaa9",
   "metadata": {},
   "outputs": [],
   "source": [
    "import numpy as np\n",
    "import torch"
   ]
  },
  {
   "cell_type": "code",
   "execution_count": 8,
   "id": "85354e19-2b6c-420f-a5ce-7fbef02f9df5",
   "metadata": {},
   "outputs": [
    {
     "name": "stdout",
     "output_type": "stream",
     "text": [
      "[[ 0.14 -0.46 -0.85  0.91  0.9 ]\n",
      " [ 0.36  2.11 -1.65  3.85  2.86]\n",
      " [ 0.11 -1.34  0.55 -3.4  -2.35]]\n",
      " \n",
      "[[-0.13 -3.8  -4.76 -0.03]\n",
      " [-1.53 -0.42  0.47  3.26]\n",
      " [ 0.87  2.31  4.04  0.76]\n",
      " [ 1.4   0.37  0.93 -0.95]\n",
      " [-1.31 -0.14 -0.65  0.85]\n",
      " [-1.62 -2.39 -4.42 -0.29]\n",
      " [-0.07  0.2   0.03 -0.23]]\n",
      " \n"
     ]
    },
    {
     "data": {
      "text/plain": [
       "(None, None)"
      ]
     },
     "execution_count": 8,
     "metadata": {},
     "output_type": "execute_result"
    }
   ],
   "source": [
    "## Using numpy\n",
    "\n",
    "# create some random matrices\n",
    "A = np.random.randn(3, 4)\n",
    "B = np.random.randn(4, 5)\n",
    "C = np.random.randn(3, 7)\n",
    "\n",
    "print(np.round(A@B, 2)), print(\" \") # A@B = np.matmul(A, B)\n",
    "# print(np.round(A@C, 2)), print(\" \") # Will give an error\n",
    "# print(np.round(B@C, 2)), print(\" \") # Will give an error\n",
    "print(np.round(C.T@A, 2)), print(\" \") # Transpose of C"
   ]
  },
  {
   "cell_type": "code",
   "execution_count": 14,
   "id": "4cbde796-fa87-428a-bd6a-e836978780b2",
   "metadata": {},
   "outputs": [
    {
     "name": "stdout",
     "output_type": "stream",
     "text": [
      "tensor([[ 1.4000, -0.7400,  3.3400,  2.0300,  5.5200],\n",
      "        [-2.0000,  0.0800, -1.5700, -1.3000, -2.2000],\n",
      "        [-1.2000,  4.3700,  4.4800, -3.4200, -1.9500]])\n",
      " \n",
      "tensor([[ 3.3000, -0.0100, -2.1200, -3.3800, -1.2300,  0.0700,  0.1800],\n",
      "        [-2.1400, -2.6100,  0.3700,  1.1500,  0.5700,  0.6000, -0.9000],\n",
      "        [-0.2900, -2.5600, -2.1600, -0.5900, -4.3800,  1.7500, -1.3400]],\n",
      "       dtype=torch.float64)\n",
      " \n",
      "tensor([[ 3.3000, -0.0100, -2.1200, -3.3800, -1.2300,  0.0700,  0.1800],\n",
      "        [-2.1400, -2.6100,  0.3700,  1.1500,  0.5700,  0.6000, -0.9000],\n",
      "        [-0.2900, -2.5600, -2.1600, -0.5900, -4.3800,  1.7500, -1.3400]])\n",
      " \n"
     ]
    },
    {
     "name": "stderr",
     "output_type": "stream",
     "text": [
      "C:\\Users\\Admin\\AppData\\Local\\Temp\\ipykernel_9312\\1078476097.py:11: DeprecationWarning: __array_wrap__ must accept context and return_scalar arguments (positionally) in the future. (Deprecated NumPy 2.0)\n",
      "  print(np.round(A@C1, 2)), print(\" \")\n"
     ]
    },
    {
     "data": {
      "text/plain": [
       "(None, None)"
      ]
     },
     "execution_count": 14,
     "metadata": {},
     "output_type": "execute_result"
    }
   ],
   "source": [
    "## Using pytorch\n",
    "\n",
    "# create some random matrices\n",
    "A = torch.randn(3, 4)\n",
    "B = torch.randn(4, 5)\n",
    "C1 = np.random.randn(4, 7)\n",
    "C2 = torch.tensor(C1, dtype = torch.float)\n",
    "\n",
    "print(np.round(A@B, 2)), print(\" \") # A@B = np.matmul(A, B)\n",
    "# print(np.round(A@B.T, 2)), print(\" \") # Will give an error\n",
    "print(np.round(A@C1, 2)), print(\" \")\n",
    "print(np.round(A@C2, 2)), print(\" \") # Transpose of C"
   ]
  },
  {
   "cell_type": "code",
   "execution_count": null,
   "id": "f161470c-87bf-4042-b148-3ce3f85bf88c",
   "metadata": {},
   "outputs": [],
   "source": []
  }
 ],
 "metadata": {
  "kernelspec": {
   "display_name": "Python 3 (ipykernel)",
   "language": "python",
   "name": "python3"
  },
  "language_info": {
   "codemirror_mode": {
    "name": "ipython",
    "version": 3
   },
   "file_extension": ".py",
   "mimetype": "text/x-python",
   "name": "python",
   "nbconvert_exporter": "python",
   "pygments_lexer": "ipython3",
   "version": "3.13.0"
  }
 },
 "nbformat": 4,
 "nbformat_minor": 5
}
