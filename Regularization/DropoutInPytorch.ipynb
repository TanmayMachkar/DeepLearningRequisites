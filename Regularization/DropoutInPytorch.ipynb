{
 "cells": [
  {
   "cell_type": "code",
   "execution_count": 1,
   "id": "f2244fba-58f0-4755-a77b-d182d90d0617",
   "metadata": {},
   "outputs": [],
   "source": [
    "import torch\n",
    "import torch.nn as nn\n",
    "import torch.nn.functional as F"
   ]
  },
  {
   "cell_type": "code",
   "execution_count": 3,
   "id": "eb5ab1b2-70ea-4225-bca3-7d71ad5ab684",
   "metadata": {},
   "outputs": [
    {
     "name": "stdout",
     "output_type": "stream",
     "text": [
      "tensor([1., 1., 1., 1., 1., 1., 1., 1., 1., 1.])\n",
      "tensor([1., 0., 0., 0., 0., 1., 0., 0., 1., 1.])\n",
      "tensor(0.8000)\n"
     ]
    }
   ],
   "source": [
    "# define a dropout instance and make some data\n",
    "prob = .5\n",
    "\n",
    "dropout = nn.Dropout(p = prob)\n",
    "x = torch.ones(10)\n",
    "\n",
    "# let's see what dropout means\n",
    "y = dropout(x)\n",
    "print(x)\n",
    "print(y*(1-prob))\n",
    "print(torch.mean(y))"
   ]
  },
  {
   "cell_type": "code",
   "execution_count": 5,
   "id": "28465b39-2939-4666-b048-87605e23e883",
   "metadata": {},
   "outputs": [
    {
     "name": "stdout",
     "output_type": "stream",
     "text": [
      "tensor([1., 1., 1., 1., 1., 1., 1., 1., 1., 1.])\n",
      "tensor(1.)\n"
     ]
    }
   ],
   "source": [
    "# dropout is turned off when evaluating the model\n",
    "dropout.eval()\n",
    "y = dropout(x)\n",
    "print(y)\n",
    "print(torch.mean(y))"
   ]
  },
  {
   "cell_type": "code",
   "execution_count": 6,
   "id": "ac814fb1-4c0c-46c2-aea2-05bcb5688443",
   "metadata": {},
   "outputs": [
    {
     "name": "stdout",
     "output_type": "stream",
     "text": [
      "tensor([2., 0., 0., 2., 0., 2., 2., 2., 2., 2.])\n",
      "tensor(1.4000)\n"
     ]
    }
   ],
   "source": [
    "# annoyingly, F.dropout() is not deactivated in eval mode:\n",
    "dropout.eval()\n",
    "y = F.dropout(x)\n",
    "print(y)\n",
    "print(torch.mean(y))"
   ]
  },
  {
   "cell_type": "code",
   "execution_count": 8,
   "id": "0fc93da9-71fa-4b0a-b6f4-1f2b075e8dfb",
   "metadata": {},
   "outputs": [
    {
     "name": "stdout",
     "output_type": "stream",
     "text": [
      "tensor([1., 1., 1., 1., 1., 1., 1., 1., 1., 1.])\n",
      "tensor(1.)\n"
     ]
    }
   ],
   "source": [
    "# but you can manually switch it off\n",
    "y = F.dropout(x, training = False)\n",
    "print(y)\n",
    "print(torch.mean(y))"
   ]
  },
  {
   "cell_type": "code",
   "execution_count": 9,
   "id": "68e8a8a9-bc8a-47ba-81c5-a8d145347d79",
   "metadata": {},
   "outputs": [
    {
     "name": "stdout",
     "output_type": "stream",
     "text": [
      "tensor([2., 0., 2., 0., 2., 2., 2., 0., 0., 2.])\n",
      "tensor([1., 1., 1., 1., 1., 1., 1., 1., 1., 1.])\n",
      "tensor([1., 1., 1., 1., 1., 1., 1., 1., 1., 1.])\n"
     ]
    }
   ],
   "source": [
    "# the model needs to be reset after toggling into eval mode\n",
    "\n",
    "dropout.train()\n",
    "y = dropout(x)\n",
    "print(y) # with dropout\n",
    "\n",
    "dropout.eval()\n",
    "y = dropout(x)\n",
    "print(y) # without dropout\n",
    "\n",
    "# dropout.train()\n",
    "y = dropout(x)\n",
    "print(y) # still w/o dropout"
   ]
  },
  {
   "cell_type": "code",
   "execution_count": null,
   "id": "258eaaa1-9792-453a-bbcd-280bc9a892e0",
   "metadata": {},
   "outputs": [],
   "source": []
  }
 ],
 "metadata": {
  "kernelspec": {
   "display_name": "Python 3 (ipykernel)",
   "language": "python",
   "name": "python3"
  },
  "language_info": {
   "codemirror_mode": {
    "name": "ipython",
    "version": 3
   },
   "file_extension": ".py",
   "mimetype": "text/x-python",
   "name": "python",
   "nbconvert_exporter": "python",
   "pygments_lexer": "ipython3",
   "version": "3.13.0"
  }
 },
 "nbformat": 4,
 "nbformat_minor": 5
}
