{
 "cells": [
  {
   "cell_type": "code",
   "execution_count": 1,
   "id": "d0694be0-b602-4381-a4b0-1fe98d86b56a",
   "metadata": {},
   "outputs": [],
   "source": [
    "import torch\n",
    "import torch.nn as nn\n",
    "import numpy as np"
   ]
  },
  {
   "cell_type": "code",
   "execution_count": 2,
   "id": "52757da1-8efa-43bf-a7de-19e59f2e8d6e",
   "metadata": {},
   "outputs": [
    {
     "name": "stdout",
     "output_type": "stream",
     "text": [
      "RNN(9, 16)\n"
     ]
    }
   ],
   "source": [
    "# set layer parameters\n",
    "input_size = 9 # no of features to extract (eg: number of data channels)\n",
    "hidden_size = 16 # no of units in hidden state\n",
    "num_layers = 1 # no of vertical stacks of hidden layers (only the final layer gives an output)\n",
    "actfun = 'tanh'\n",
    "bias = True\n",
    "\n",
    "# create an RNN instance\n",
    "rnn = nn.RNN(input_size, hidden_size, num_layers, nonlinearity = actfun, bias = bias)\n",
    "print(rnn)"
   ]
  },
  {
   "cell_type": "code",
   "execution_count": 3,
   "id": "8d36f0cc-837b-4b00-9c91-f60cdd0a3fe9",
   "metadata": {},
   "outputs": [
    {
     "name": "stdout",
     "output_type": "stream",
     "text": [
      "Input shape: [5, 2, 9]\n",
      "Hidden shape: [1, 2, 16]\n",
      "Output shape: [5, 2, 16]\n"
     ]
    }
   ],
   "source": [
    "# set data parameters\n",
    "seqlength = 5\n",
    "batchsize = 2\n",
    "\n",
    "# create some data\n",
    "X = torch.rand(seqlength, batchsize, input_size)\n",
    "\n",
    "# create a hidden layer (typically initialized as zeros)\n",
    "hidden = torch.zeros(num_layers, batchsize, hidden_size)\n",
    "\n",
    "# run some data thru the model and show the output sizes\n",
    "y, h = rnn(X, hidden)\n",
    "print(f'Input shape: {list(X.shape)}')\n",
    "print(f'Hidden shape: {list(h.shape)}')\n",
    "print(f'Output shape: {list(y.shape)}')"
   ]
  },
  {
   "cell_type": "code",
   "execution_count": 8,
   "id": "9a05420a-5eb6-4b59-8dd4-202c621f7e0b",
   "metadata": {},
   "outputs": [
    {
     "name": "stdout",
     "output_type": "stream",
     "text": [
      "tensor([[[ 0.3594, -0.2873,  0.2759, -0.0697,  0.0383, -0.5630, -0.1784,\n",
      "           0.3934, -0.2888, -0.0261,  0.7370,  0.1172,  0.4130, -0.4845,\n",
      "           0.0745,  0.0382],\n",
      "         [ 0.1444, -0.2765,  0.3954, -0.1794,  0.1164, -0.6338,  0.0866,\n",
      "           0.3805, -0.1298, -0.0128,  0.8552,  0.2816,  0.4813, -0.2404,\n",
      "          -0.2895, -0.1675]]], grad_fn=<StackBackward0>)\n",
      "\n",
      "\n",
      "\n",
      "tensor([[[ 0.3594, -0.2873,  0.2759, -0.0697,  0.0383, -0.5630, -0.1784,\n",
      "           0.3934, -0.2888, -0.0261,  0.7370,  0.1172,  0.4130, -0.4845,\n",
      "           0.0745,  0.0382],\n",
      "         [ 0.1444, -0.2765,  0.3954, -0.1794,  0.1164, -0.6338,  0.0866,\n",
      "           0.3805, -0.1298, -0.0128,  0.8552,  0.2816,  0.4813, -0.2404,\n",
      "          -0.2895, -0.1675]]], grad_fn=<StackBackward0>)\n",
      "\n",
      "\n",
      "\n",
      "tensor([[[0., 0., 0., 0., 0., 0., 0., 0., 0., 0., 0., 0., 0., 0., 0., 0.],\n",
      "         [0., 0., 0., 0., 0., 0., 0., 0., 0., 0., 0., 0., 0., 0., 0., 0.]]],\n",
      "       grad_fn=<SubBackward0>)\n"
     ]
    }
   ],
   "source": [
    "# Default hidden state is all zeros if nothing is specified\n",
    "y, h1 = rnn(X, hidden)\n",
    "print(h1), print('\\n\\n')\n",
    "\n",
    "y, h2 = rnn(X) # no 2nd input still same effect as above where hidden is initialized to zeros\n",
    "print(h2), print('\\n\\n')\n",
    "\n",
    "# they're the same (meaning default = zeros)\n",
    "print(h1 - h2)"
   ]
  },
  {
   "cell_type": "code",
   "execution_count": 9,
   "id": "38cd935a-930e-4790-81f3-a6d673115ecc",
   "metadata": {},
   "outputs": [
    {
     "name": "stdout",
     "output_type": "stream",
     "text": [
      "weight_ih_l0 has size [16, 9]\n",
      "weight_hh_l0 has size [16, 16]\n"
     ]
    }
   ],
   "source": [
    "# check out the learned parameters and their sizes\n",
    "for p in rnn.named_parameters():\n",
    "    if 'weight' in p[0]:\n",
    "        print(f'{p[0]} has size {list(p[1].shape)}')"
   ]
  },
  {
   "cell_type": "code",
   "execution_count": 11,
   "id": "929840c3-0182-4143-9888-fad2a9113bb4",
   "metadata": {},
   "outputs": [],
   "source": [
    "# weight_ih = weight from input to hidden layer\n",
    "# weight_hh = weight from hidden layer recursively into itself"
   ]
  },
  {
   "cell_type": "code",
   "execution_count": 12,
   "id": "eda61d56-9632-44de-8df1-1173a5332506",
   "metadata": {},
   "outputs": [],
   "source": [
    "class RNNnet(nn.Module):\n",
    "    def __init__(self, input_size, num_hidden, num_layers):\n",
    "        super().__init__()\n",
    "\n",
    "        # store parameters\n",
    "        self.input_size = input_size\n",
    "        self.num_hidden = num_hidden\n",
    "        self.num_layers = num_layers\n",
    "\n",
    "        # RNN layer\n",
    "        self.rnn = nn.RNN(input_size, num_hidden, num_layers)\n",
    "\n",
    "        # linear layer for output\n",
    "        self.out = nn.Linear(num_hidden, 1)\n",
    "\n",
    "    def forward(self, x):\n",
    "\n",
    "        print(f'Input: {list(x.shape)}')\n",
    "\n",
    "        # initialize hidden state for first input\n",
    "        hidden = torch.zeros(self.num_layers, batchsize, self.num_hidden)\n",
    "        print(f'Hidden: {list(hidden.shape)}')\n",
    "\n",
    "        # run thru the RNN layer\n",
    "        y, hidden = self.rnn(x, hidden)\n",
    "        print(f'RNN-out: {list(y.shape)}')\n",
    "        print(f'RNN-hidden: {list(hidden.shape)}')\n",
    "\n",
    "        # pass the RNN output thru the linear output layer\n",
    "        o = self.out(y)\n",
    "        print(f'Output: {list(o.shape)}')\n",
    "\n",
    "        return o, hidden"
   ]
  },
  {
   "cell_type": "code",
   "execution_count": 13,
   "id": "31485e1f-ac4f-46aa-9459-aad9f5c1951e",
   "metadata": {},
   "outputs": [
    {
     "name": "stdout",
     "output_type": "stream",
     "text": [
      "RNNnet(\n",
      "  (rnn): RNN(9, 16)\n",
      "  (out): Linear(in_features=16, out_features=1, bias=True)\n",
      ")\n",
      " \n",
      "rnn.weight_ih_l0 has size [16, 9]\n",
      "rnn.weight_hh_l0 has size [16, 16]\n",
      "rnn.bias_ih_l0 has size [16]\n",
      "rnn.bias_hh_l0 has size [16]\n",
      "out.weight has size [1, 16]\n",
      "out.bias has size [1]\n"
     ]
    }
   ],
   "source": [
    "# create an instance of the model and inspect\n",
    "net = RNNnet(input_size, hidden_size, num_layers)\n",
    "print(net), print(' ')\n",
    "\n",
    "# and check out all learnable parameters\n",
    "for p in net.named_parameters():\n",
    "    print(f'{p[0]} has size {list(p[1].shape)}')"
   ]
  },
  {
   "cell_type": "code",
   "execution_count": 14,
   "id": "63dc2062-cb12-445a-a4db-ff2f48a3444b",
   "metadata": {},
   "outputs": [
    {
     "name": "stdout",
     "output_type": "stream",
     "text": [
      "Input: [5, 2, 9]\n",
      "Hidden: [1, 2, 16]\n",
      "RNN-out: [5, 2, 16]\n",
      "RNN-hidden: [1, 2, 16]\n",
      "Output: [5, 2, 1]\n"
     ]
    },
    {
     "name": "stderr",
     "output_type": "stream",
     "text": [
      "C:\\Users\\Admin\\AppData\\Local\\Programs\\Python\\Python313\\Lib\\site-packages\\torch\\nn\\modules\\loss.py:610: UserWarning: Using a target size (torch.Size([1, 2, 16])) that is different to the input size (torch.Size([5, 2, 1])). This will likely lead to incorrect results due to broadcasting. Please ensure they have the same size.\n",
      "  return F.mse_loss(input, target, reduction=self.reduction)\n"
     ]
    },
    {
     "data": {
      "text/plain": [
       "tensor(0.1502, grad_fn=<MseLossBackward0>)"
      ]
     },
     "execution_count": 14,
     "metadata": {},
     "output_type": "execute_result"
    }
   ],
   "source": [
    "# test the model with some data\n",
    "# create some data\n",
    "X = torch.rand(seqlength, batchsize, input_size)\n",
    "y = torch.rand(seqlength, batchsize, 1)\n",
    "yHat, y = net(X)\n",
    "\n",
    "# try a loss function\n",
    "lossfun = nn.MSELoss()\n",
    "lossfun(yHat, y)"
   ]
  },
  {
   "cell_type": "code",
   "execution_count": null,
   "id": "18dec634-80ce-4966-8074-9dbd995a8ada",
   "metadata": {},
   "outputs": [],
   "source": []
  }
 ],
 "metadata": {
  "kernelspec": {
   "display_name": "Python 3 (ipykernel)",
   "language": "python",
   "name": "python3"
  },
  "language_info": {
   "codemirror_mode": {
    "name": "ipython",
    "version": 3
   },
   "file_extension": ".py",
   "mimetype": "text/x-python",
   "name": "python",
   "nbconvert_exporter": "python",
   "pygments_lexer": "ipython3",
   "version": "3.13.0"
  }
 },
 "nbformat": 4,
 "nbformat_minor": 5
}
