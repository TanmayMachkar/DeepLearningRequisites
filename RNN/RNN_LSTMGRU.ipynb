{
 "cells": [
  {
   "cell_type": "code",
   "execution_count": 1,
   "id": "2fbe9975-1dd5-4b3d-8411-50079c1f6d2a",
   "metadata": {},
   "outputs": [],
   "source": [
    "import torch\n",
    "import torch.nn as nn\n",
    "import numpy as np"
   ]
  },
  {
   "cell_type": "code",
   "execution_count": 2,
   "id": "f9aed2bd-658b-4518-9749-671cea3a9293",
   "metadata": {},
   "outputs": [
    {
     "name": "stdout",
     "output_type": "stream",
     "text": [
      "LSTM(9, 16, num_layers=2)\n"
     ]
    }
   ],
   "source": [
    "# set layer parameters\n",
    "input_size = 9 # no of features to extract (eg: number of data channels)\n",
    "hidden_size = 16 # no of units in hidden state\n",
    "num_layers = 2 # no of vertical stacks of hidden layers (only the final layer gives an output)\n",
    "\n",
    "# create an LSTM instance\n",
    "lstm = nn.LSTM(input_size, hidden_size, num_layers)\n",
    "print(lstm)"
   ]
  },
  {
   "cell_type": "code",
   "execution_count": 5,
   "id": "6416566c-c5a7-4d99-a30c-00e09a6b7dbb",
   "metadata": {},
   "outputs": [
    {
     "name": "stdout",
     "output_type": "stream",
     "text": [
      "Input shape: [5, 2, 9]\n",
      "Hidden shape: [2, 2, 16]\n",
      "Cell shape: [2, 2, 16]\n",
      "Output shape: [5, 2, 16]\n"
     ]
    }
   ],
   "source": [
    "# set data parameters\n",
    "seqlength = 5\n",
    "batchsize = 2\n",
    "\n",
    "# create some data\n",
    "X = torch.rand(seqlength, batchsize, input_size)\n",
    "\n",
    "# create initial hidden states (typically initialized as zeros)\n",
    "H = torch.zeros(num_layers, batchsize, hidden_size)\n",
    "C = torch.zeros(num_layers, batchsize, hidden_size)\n",
    "\n",
    "# the input is actually a tuple of (hidden, cell)\n",
    "hiddeninputs = (H, C)\n",
    "\n",
    "# run thru some data thru model and show the output sizes\n",
    "y, h = lstm(X, hiddeninputs)\n",
    "print(f'Input shape: {list(X.shape)}')\n",
    "print(f'Hidden shape: {list(h[0].shape)}')\n",
    "print(f'Cell shape: {list(h[1].shape)}')\n",
    "print(f'Output shape: {list(y.shape)}')"
   ]
  },
  {
   "cell_type": "code",
   "execution_count": 6,
   "id": "cfefd936-3a55-49ff-aedb-45cc9688d21e",
   "metadata": {},
   "outputs": [
    {
     "name": "stdout",
     "output_type": "stream",
     "text": [
      "weight_ih_l0 has size [64, 9]\n",
      "weight_hh_l0 has size [64, 16]\n",
      "weight_ih_l1 has size [64, 16]\n",
      "weight_hh_l1 has size [64, 16]\n"
     ]
    }
   ],
   "source": [
    "# check out the learned parameters and their sizes\n",
    "for p in lstm.named_parameters():\n",
    "    if 'weight' in p[0]:\n",
    "        print(f'{p[0]} has size {list(p[1].shape)}')"
   ]
  },
  {
   "cell_type": "code",
   "execution_count": 18,
   "id": "e888ae3a-d652-4e57-a382-c7e934dbec4f",
   "metadata": {},
   "outputs": [],
   "source": [
    "# in rnn [16, 9]\n",
    "# in lstm [4*16, 9] coz lstm concatenates the 4 diff matrices together \n",
    "# Wf, Wi, Wg, Wo (check LSTM diagram in notes to check the 4 matrices)"
   ]
  },
  {
   "cell_type": "code",
   "execution_count": 10,
   "id": "40853e1a-70c1-4168-9592-5dbca2aa3012",
   "metadata": {},
   "outputs": [],
   "source": [
    "class LSTMnet(nn.Module):\n",
    "    def __init__(self, input_size, num_hidden, num_layers):\n",
    "        super().__init__()\n",
    "\n",
    "        # store parameters\n",
    "        self.input_size = input_size\n",
    "        self.num_hidden = num_hidden\n",
    "        self.num_layers = num_layers\n",
    "\n",
    "        # LSTM layer\n",
    "        self.lstm = nn.LSTM(input_size, num_hidden, num_layers)\n",
    "\n",
    "        # linear layer for output\n",
    "        self.out = nn.Linear(num_hidden, 1)\n",
    "\n",
    "    def forward(self, x):\n",
    "\n",
    "        print(f'Input: {list(x.shape)}')\n",
    "\n",
    "        # run thru the LSTM layer\n",
    "        y, hidden = self.lstm(x)\n",
    "        print(f'LSTM-out: {list(y.shape)}')\n",
    "        print(f'LSTM-hidden: {list(hidden[0].shape)}')\n",
    "        print(f'LSTM-cell: {list(hidden[1].shape)}')\n",
    "        \n",
    "        # pass the LSTM output thru the linear output layer\n",
    "        o = self.out(y)\n",
    "        print(f'Output: {list(o.shape)}')\n",
    "\n",
    "        return o, hidden"
   ]
  },
  {
   "cell_type": "code",
   "execution_count": 11,
   "id": "7956aaec-5c55-4cf5-ad3b-722f7a1bf6d4",
   "metadata": {},
   "outputs": [
    {
     "name": "stdout",
     "output_type": "stream",
     "text": [
      "LSTMnet(\n",
      "  (lstm): LSTM(9, 16, num_layers=2)\n",
      "  (out): Linear(in_features=16, out_features=1, bias=True)\n",
      ")\n",
      " \n",
      "   lstm.weight_ih_l0 has size [64, 9]\n",
      "   lstm.weight_hh_l0 has size [64, 16]\n",
      "     lstm.bias_ih_l0 has size [64]\n",
      "     lstm.bias_hh_l0 has size [64]\n",
      "   lstm.weight_ih_l1 has size [64, 16]\n",
      "   lstm.weight_hh_l1 has size [64, 16]\n",
      "     lstm.bias_ih_l1 has size [64]\n",
      "     lstm.bias_hh_l1 has size [64]\n",
      "          out.weight has size [1, 16]\n",
      "            out.bias has size [1]\n"
     ]
    }
   ],
   "source": [
    "# create an instance of the model and inspect\n",
    "net = LSTMnet(input_size, hidden_size, num_layers)\n",
    "print(net), print(' ')\n",
    "\n",
    "# and check out all learnable parameters\n",
    "for p in net.named_parameters():\n",
    "    print(f'{p[0]:>20} has size {list(p[1].shape)}')"
   ]
  },
  {
   "cell_type": "code",
   "execution_count": 12,
   "id": "da0ae888-2d61-4475-b8cf-af3124533426",
   "metadata": {},
   "outputs": [
    {
     "name": "stdout",
     "output_type": "stream",
     "text": [
      "Input: [5, 2, 9]\n",
      "LSTM-out: [5, 2, 16]\n",
      "LSTM-hidden: [2, 2, 16]\n",
      "LSTM-cell: [2, 2, 16]\n",
      "Output: [5, 2, 1]\n"
     ]
    },
    {
     "data": {
      "text/plain": [
       "tensor(0.1558, grad_fn=<MseLossBackward0>)"
      ]
     },
     "execution_count": 12,
     "metadata": {},
     "output_type": "execute_result"
    }
   ],
   "source": [
    "# test the model with some data\n",
    "# create some data\n",
    "X = torch.rand(seqlength, batchsize, input_size)\n",
    "y = torch.rand(seqlength, batchsize, 1)\n",
    "yHat, h = net(X)\n",
    "\n",
    "# try a loss function\n",
    "lossfun = nn.MSELoss()\n",
    "lossfun(yHat, y)"
   ]
  },
  {
   "cell_type": "code",
   "execution_count": 13,
   "id": "d54f4d81-6a72-4511-91f8-91f55dd4a971",
   "metadata": {},
   "outputs": [
    {
     "data": {
      "text/plain": [
       "GRU(9, 16, num_layers=2)"
      ]
     },
     "execution_count": 13,
     "metadata": {},
     "output_type": "execute_result"
    }
   ],
   "source": [
    "# create an GRU instance\n",
    "gru = nn.GRU(input_size, hidden_size, num_layers)\n",
    "gru"
   ]
  },
  {
   "cell_type": "code",
   "execution_count": 15,
   "id": "c6ba10d3-9033-4027-9f27-eb2b2a7c3947",
   "metadata": {},
   "outputs": [
    {
     "name": "stdout",
     "output_type": "stream",
     "text": [
      "Input shape: [5, 2, 9]\n",
      "Hidden shape: [2, 2, 16]\n",
      "Output shape: [5, 2, 16]\n"
     ]
    }
   ],
   "source": [
    "# create some data\n",
    "X = torch.rand(seqlength, batchsize, input_size)\n",
    "\n",
    "# create a hidden layer (typically initialized as zeros)\n",
    "H = torch.zeros(num_layers, batchsize, hidden_size)\n",
    "\n",
    "# run some data thru the model and show the output sizes\n",
    "y, h = gru(X, H) # No cell states in GRU\n",
    "print(f'Input shape: {list(X.shape)}')\n",
    "print(f'Hidden shape: {list(h.shape)}')\n",
    "print(f'Output shape: {list(y.shape)}')"
   ]
  },
  {
   "cell_type": "code",
   "execution_count": 16,
   "id": "a0484dec-8919-42fe-a835-9e118f091e65",
   "metadata": {},
   "outputs": [
    {
     "name": "stdout",
     "output_type": "stream",
     "text": [
      "   weight_ih_l0 has size [48, 9]\n",
      "   weight_hh_l0 has size [48, 16]\n",
      "     bias_ih_l0 has size [48]\n",
      "     bias_hh_l0 has size [48]\n",
      "   weight_ih_l1 has size [48, 16]\n",
      "   weight_hh_l1 has size [48, 16]\n",
      "     bias_ih_l1 has size [48]\n",
      "     bias_hh_l1 has size [48]\n"
     ]
    }
   ],
   "source": [
    "# check out the learned parameters and their sizes\n",
    "for p in gru.named_parameters():\n",
    "    print(f'{p[0]:>15} has size {list(p[1].shape)}')"
   ]
  },
  {
   "cell_type": "code",
   "execution_count": 19,
   "id": "5cec12f7-23ba-46bc-aacc-eb10f6457e09",
   "metadata": {},
   "outputs": [],
   "source": [
    "# in rnn [16, 9]\n",
    "# in gru [3*16, 9] coz gru concatenates the 3 diff matrices together \n",
    "# Wr, Wz, Wn (check GRU diagram in notes to check the 3 matrices)"
   ]
  },
  {
   "cell_type": "code",
   "execution_count": null,
   "id": "c4b5ee6f-89fd-4d69-bc79-edce937171e0",
   "metadata": {},
   "outputs": [],
   "source": []
  }
 ],
 "metadata": {
  "kernelspec": {
   "display_name": "Python 3 (ipykernel)",
   "language": "python",
   "name": "python3"
  },
  "language_info": {
   "codemirror_mode": {
    "name": "ipython",
    "version": 3
   },
   "file_extension": ".py",
   "mimetype": "text/x-python",
   "name": "python",
   "nbconvert_exporter": "python",
   "pygments_lexer": "ipython3",
   "version": "3.13.0"
  }
 },
 "nbformat": 4,
 "nbformat_minor": 5
}
