{
 "cells": [
  {
   "cell_type": "code",
   "execution_count": 4,
   "id": "b7441280-cd53-4dd7-a572-b8a9e56cf225",
   "metadata": {},
   "outputs": [],
   "source": [
    "import numpy as np\n",
    "import torch\n",
    "import torch.nn as nn"
   ]
  },
  {
   "cell_type": "code",
   "execution_count": 11,
   "id": "285c35fc-b3bb-4bfd-ad6d-23bb7dd867fd",
   "metadata": {},
   "outputs": [
    {
     "name": "stdout",
     "output_type": "stream",
     "text": [
      "Expected size: [  1 252  84]\n",
      "Empirical size: [252, 84]\n"
     ]
    }
   ],
   "source": [
    "# convolve an image of size 1x256x256 to produce 1x252x84\n",
    "\n",
    "# parameters\n",
    "inChans  = 1 # greyscale\n",
    "imsize   = [256, 256]\n",
    "outChans = 1\n",
    "krnSize  = 7 # should be an odd number\n",
    "stride   = (1, 3)\n",
    "padding  = 1\n",
    "\n",
    "# create the instance\n",
    "c = nn.Conv2d(inChans,outChans,krnSize,stride,padding)\n",
    "\n",
    "# create an image\n",
    "img = torch.rand(1, inChans, imsize[0], imsize[1])\n",
    "\n",
    "# run convolution and compute its shape\n",
    "resimg = c(img)\n",
    "empSize = torch.squeeze(resimg).shape\n",
    "\n",
    "# compute the size of the result according to the formula\n",
    "expectSize = np.array([outChans, 0, 0], dtype=int)\n",
    "expectSize[1] = np.floor((imsize[0] + 2*padding - krnSize)/stride[0]) + 1\n",
    "expectSize[2] = np.floor((imsize[1] + 2*padding - krnSize)/stride[1]) + 1\n",
    "\n",
    "# check the size of the output\n",
    "print(f'Expected size: {expectSize}')\n",
    "print(f'Empirical size: {list(empSize)}')"
   ]
  },
  {
   "cell_type": "code",
   "execution_count": null,
   "id": "7c240896-9e11-4846-9cdc-41b4034d2dbd",
   "metadata": {},
   "outputs": [],
   "source": []
  }
 ],
 "metadata": {
  "kernelspec": {
   "display_name": "Python 3 (ipykernel)",
   "language": "python",
   "name": "python3"
  },
  "language_info": {
   "codemirror_mode": {
    "name": "ipython",
    "version": 3
   },
   "file_extension": ".py",
   "mimetype": "text/x-python",
   "name": "python",
   "nbconvert_exporter": "python",
   "pygments_lexer": "ipython3",
   "version": "3.13.0"
  }
 },
 "nbformat": 4,
 "nbformat_minor": 5
}
