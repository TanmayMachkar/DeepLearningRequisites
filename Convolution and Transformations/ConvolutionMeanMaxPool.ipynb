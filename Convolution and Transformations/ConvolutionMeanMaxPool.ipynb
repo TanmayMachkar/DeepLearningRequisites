{
 "cells": [
  {
   "cell_type": "code",
   "execution_count": 1,
   "id": "d1728af5-e10d-48f8-92a6-01c86ca07d49",
   "metadata": {},
   "outputs": [],
   "source": [
    "import torch\n",
    "import torch.nn as nn"
   ]
  },
  {
   "cell_type": "code",
   "execution_count": 2,
   "id": "04a139df-51aa-4629-ab83-b061e13a600d",
   "metadata": {},
   "outputs": [
    {
     "name": "stdout",
     "output_type": "stream",
     "text": [
      "MaxPool2d(kernel_size=3, stride=3, padding=0, dilation=1, ceil_mode=False)\n",
      "MaxPool3d(kernel_size=3, stride=3, padding=0, dilation=1, ceil_mode=False)\n"
     ]
    }
   ],
   "source": [
    "# create a pool class instance with parameters\n",
    "\n",
    "# parameters\n",
    "poolSize = 3\n",
    "stride = 3\n",
    "\n",
    "# create the instance\n",
    "p2 = nn.MaxPool2d(poolSize, stride = 3)\n",
    "p3 = nn.MaxPool3d(poolSize, stride = 3)\n",
    "\n",
    "print(p2)\n",
    "print(p3)"
   ]
  },
  {
   "cell_type": "code",
   "execution_count": 5,
   "id": "6d2a643d-0bfd-4f82-bd30-bdb06ec0c468",
   "metadata": {},
   "outputs": [
    {
     "name": "stdout",
     "output_type": "stream",
     "text": [
      "2D image, 2D maxpool: torch.Size([1, 1, 10, 10])\n",
      "\n",
      "3D image, 2D maxpool: torch.Size([1, 3, 10, 10])\n",
      "\n",
      "3D image, 3D maxpool: torch.Size([1, 1, 10, 10])\n",
      "\n"
     ]
    }
   ],
   "source": [
    "# create image and apply maxpooling\n",
    "\n",
    "# create a 2D and a 3D image\n",
    "img2 = torch.randn(1, 1, 30, 30)\n",
    "img3 = torch.randn(1, 3, 30, 30)\n",
    "\n",
    "# all combinations of image and maxpool dimensionality\n",
    "img2Pool2 = p2(img2)\n",
    "print(f\"2D image, 2D maxpool: {img2Pool2.shape}\\n\")\n",
    "\n",
    "# img2Pool3 = p3(img2)\n",
    "# print(f\"2D image, 2D maxpool: {img2Pool3.shape}\\n\") # will give an error\n",
    "\n",
    "img3Pool2 = p2(img3)\n",
    "print(f\"3D image, 2D maxpool: {img3Pool2.shape}\\n\")\n",
    "\n",
    "img3Pool3 = p3(img3)\n",
    "print(f\"3D image, 3D maxpool: {img3Pool3.shape}\\n\")"
   ]
  },
  {
   "cell_type": "code",
   "execution_count": 8,
   "id": "3b914ef7-2e0e-4028-a53a-4bbd41c13d29",
   "metadata": {},
   "outputs": [],
   "source": [
    "# create a simple CNN\n",
    "\n",
    "littlenet = nn.Sequential(\n",
    "    # the conv-pool block\n",
    "    nn.Conv2d(3, 10, 5, 3, 2), # convolution layer\n",
    "    nn.ReLU(), # activation layer\n",
    "    nn.AvgPool3d(3, 3), # average/mean pool\n",
    "\n",
    "    # the FFN block\n",
    "    nn.Flatten(), # vectorize to get from image to linear\n",
    "    nn.Linear(588, 1), # FC linear layer\n",
    "    nn.Sigmoid() # output activation\n",
    ")"
   ]
  },
  {
   "cell_type": "code",
   "execution_count": 9,
   "id": "6903a181-68fe-4e83-938a-f6055ebfd0af",
   "metadata": {},
   "outputs": [
    {
     "data": {
      "text/plain": [
       "tensor([[0.5100]], grad_fn=<SigmoidBackward0>)"
      ]
     },
     "execution_count": 9,
     "metadata": {},
     "output_type": "execute_result"
    }
   ],
   "source": [
    "# test with a bit of data\n",
    "img = torch.rand(1, 3, 128, 128)\n",
    "littlenet(img)"
   ]
  },
  {
   "cell_type": "code",
   "execution_count": null,
   "id": "a7ec6603-b714-4234-9baf-950fffd8dcf0",
   "metadata": {},
   "outputs": [],
   "source": []
  }
 ],
 "metadata": {
  "kernelspec": {
   "display_name": "Python 3 (ipykernel)",
   "language": "python",
   "name": "python3"
  },
  "language_info": {
   "codemirror_mode": {
    "name": "ipython",
    "version": 3
   },
   "file_extension": ".py",
   "mimetype": "text/x-python",
   "name": "python",
   "nbconvert_exporter": "python",
   "pygments_lexer": "ipython3",
   "version": "3.13.0"
  }
 },
 "nbformat": 4,
 "nbformat_minor": 5
}
