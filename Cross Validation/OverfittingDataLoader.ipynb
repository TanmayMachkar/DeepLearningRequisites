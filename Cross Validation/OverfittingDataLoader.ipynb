{
 "cells": [
  {
   "cell_type": "code",
   "execution_count": 10,
   "id": "961c0103-e54b-4143-8ace-aac4ca00943f",
   "metadata": {},
   "outputs": [],
   "source": [
    "import numpy as np\n",
    "import torch\n",
    "import torch.nn as nn\n",
    "import matplotlib.pyplot as plt\n",
    "from sklearn.model_selection import train_test_split\n",
    "\n",
    "from torch.utils.data import DataLoader, TensorDataset"
   ]
  },
  {
   "cell_type": "code",
   "execution_count": 11,
   "id": "cc149296-c9ee-4efb-8021-6686a02df8ca",
   "metadata": {},
   "outputs": [
    {
     "data": {
      "text/plain": [
       "tensor([0, 0, 0, 0, 0, 0, 0, 0, 0, 0, 0, 0, 0, 0, 0, 0, 0, 0, 0, 0, 0, 0, 0, 0,\n",
       "        0, 0, 0, 0, 0, 0, 0, 0, 0, 0, 0, 0, 0, 0, 0, 0, 0, 0, 0, 0, 0, 0, 0, 0,\n",
       "        0, 0, 1, 1, 1, 1, 1, 1, 1, 1, 1, 1, 1, 1, 1, 1, 1, 1, 1, 1, 1, 1, 1, 1,\n",
       "        1, 1, 1, 1, 1, 1, 1, 1, 1, 1, 1, 1, 1, 1, 1, 1, 1, 1, 1, 1, 1, 1, 1, 1,\n",
       "        1, 1, 1, 1, 2, 2, 2, 2, 2, 2, 2, 2, 2, 2, 2, 2, 2, 2, 2, 2, 2, 2, 2, 2,\n",
       "        2, 2, 2, 2, 2, 2, 2, 2, 2, 2, 2, 2, 2, 2, 2, 2, 2, 2, 2, 2, 2, 2, 2, 2,\n",
       "        2, 2, 2, 2, 2, 2])"
      ]
     },
     "execution_count": 11,
     "metadata": {},
     "output_type": "execute_result"
    }
   ],
   "source": [
    "# import dataset from seaborn\n",
    "import seaborn as sns\n",
    "iris = sns.load_dataset(\"iris\")\n",
    "\n",
    "# organize the data\n",
    "\n",
    "# convert from pandas dataframe to tensor\n",
    "data = torch.tensor(iris[iris.columns[0:4]].values).float()\n",
    "\n",
    "# transform species to number\n",
    "labels = torch.zeros(len(data), dtype = torch.long)\n",
    "# labels[iris.species == \"setosa\"] = 0 # don't need\n",
    "labels[iris.species == \"versicolor\"] = 1\n",
    "labels[iris.species == \"virginica\"] = 2\n",
    "\n",
    "labels"
   ]
  },
  {
   "cell_type": "code",
   "execution_count": 12,
   "id": "6e745198-3764-48c5-af8d-446f031c856f",
   "metadata": {},
   "outputs": [
    {
     "name": "stdout",
     "output_type": "stream",
     "text": [
      "[[ 11  12  13  14]\n",
      " [ 21  22  23  24]\n",
      " [ 31  32  33  34]\n",
      " [ 41  42  43  44]\n",
      " [ 51  52  53  54]\n",
      " [ 61  62  63  64]\n",
      " [ 71  72  73  74]\n",
      " [ 81  82  83  84]\n",
      " [ 91  92  93  94]\n",
      " [101 102 103 104]]\n",
      " \n",
      "[False False False False False  True  True  True  True  True]\n"
     ]
    }
   ],
   "source": [
    "# create a fake dataset\n",
    "\n",
    "fakedata = np.tile(np.array([1, 2, 3, 4]), (10, 1)) + np.tile(10*np.arange(1, 11), (4, 1)).T\n",
    "fakelabels = np.arange(10) > 4\n",
    "print(fakedata), print(\" \")\n",
    "print(fakelabels)"
   ]
  },
  {
   "cell_type": "code",
   "execution_count": 13,
   "id": "17782a62-6458-45a8-8997-8525b33a2183",
   "metadata": {},
   "outputs": [
    {
     "name": "stdout",
     "output_type": "stream",
     "text": [
      "<torch.utils.data.dataloader.DataLoader object at 0x000002600C570690>\n",
      "1\n"
     ]
    }
   ],
   "source": [
    "# dataloader object with all data\n",
    "fakedataLdr = DataLoader(fakedata, shuffle = True)\n",
    "print(fakedataLdr)\n",
    "print(fakedataLdr.batch_size)"
   ]
  },
  {
   "cell_type": "code",
   "execution_count": 14,
   "id": "af4b960b-5549-4a21-9772-e06ad3e1ddb4",
   "metadata": {},
   "outputs": [
    {
     "name": "stdout",
     "output_type": "stream",
     "text": [
      "0 tensor([[51, 52, 53, 54]]) torch.Size([1, 4])\n",
      "1 tensor([[91, 92, 93, 94]]) torch.Size([1, 4])\n",
      "2 tensor([[71, 72, 73, 74]]) torch.Size([1, 4])\n",
      "3 tensor([[61, 62, 63, 64]]) torch.Size([1, 4])\n",
      "4 tensor([[41, 42, 43, 44]]) torch.Size([1, 4])\n",
      "5 tensor([[81, 82, 83, 84]]) torch.Size([1, 4])\n",
      "6 tensor([[21, 22, 23, 24]]) torch.Size([1, 4])\n",
      "7 tensor([[11, 12, 13, 14]]) torch.Size([1, 4])\n",
      "8 tensor([[31, 32, 33, 34]]) torch.Size([1, 4])\n",
      "9 tensor([[101, 102, 103, 104]]) torch.Size([1, 4])\n"
     ]
    }
   ],
   "source": [
    "for i, oneSample in enumerate(fakedataLdr):\n",
    "    print(i, oneSample, oneSample.shape)\n",
    "\n",
    "# where are the labels?"
   ]
  },
  {
   "cell_type": "code",
   "execution_count": 17,
   "id": "278c9232-b26f-46f4-8864-3ac959b061c6",
   "metadata": {},
   "outputs": [
    {
     "name": "stdout",
     "output_type": "stream",
     "text": [
      "(tensor([[ 11.,  12.,  13.,  14.],\n",
      "        [ 21.,  22.,  23.,  24.],\n",
      "        [ 31.,  32.,  33.,  34.],\n",
      "        [ 41.,  42.,  43.,  44.],\n",
      "        [ 51.,  52.,  53.,  54.],\n",
      "        [ 61.,  62.,  63.,  64.],\n",
      "        [ 71.,  72.,  73.,  74.],\n",
      "        [ 81.,  82.,  83.,  84.],\n",
      "        [ 91.,  92.,  93.,  94.],\n",
      "        [101., 102., 103., 104.]]), tensor([0., 0., 0., 0., 0., 1., 1., 1., 1., 1.]))\n",
      " \n",
      "tensor([[41., 42., 43., 44.]]) tensor([0.])\n",
      "tensor([[81., 82., 83., 84.]]) tensor([1.])\n",
      "tensor([[101., 102., 103., 104.]]) tensor([1.])\n",
      "tensor([[11., 12., 13., 14.]]) tensor([0.])\n",
      "tensor([[21., 22., 23., 24.]]) tensor([0.])\n",
      "tensor([[91., 92., 93., 94.]]) tensor([1.])\n",
      "tensor([[51., 52., 53., 54.]]) tensor([0.])\n",
      "tensor([[71., 72., 73., 74.]]) tensor([1.])\n",
      "tensor([[61., 62., 63., 64.]]) tensor([1.])\n",
      "tensor([[31., 32., 33., 34.]]) tensor([0.])\n"
     ]
    }
   ],
   "source": [
    "# we need to create a Dataset that contains the data and labels\n",
    "fakeDataset = TensorDataset(torch.Tensor(fakedata), torch.Tensor(fakelabels))\n",
    "print(fakeDataset.tensors), print(\" \")\n",
    "\n",
    "# create another dataloader\n",
    "fakedataLdr = DataLoader(fakeDataset, shuffle = True)\n",
    "\n",
    "# iterate thru the data\n",
    "for dat, lab in fakedataLdr:\n",
    "    print(dat, lab)"
   ]
  },
  {
   "cell_type": "code",
   "execution_count": 18,
   "id": "dd1d2066-13d6-47fe-b559-b932d64838cf",
   "metadata": {},
   "outputs": [],
   "source": [
    "# use scikitlearn to split the data\n",
    "train_data, test_data, train_labels, test_labels = train_test_split(fakedata, fakelabels, test_size = .2)\n",
    "\n",
    "# then convert them into PyTorch Datasets\n",
    "train_data = torch.utils.data.TensorDataset(\n",
    "    torch.Tensor(train_data), torch.Tensor(train_labels)\n",
    ")\n",
    "\n",
    "test_data = torch.utils.data.TensorDataset(\n",
    "    torch.Tensor(test_data), torch.Tensor(test_labels)\n",
    ")\n",
    "\n",
    "# finally, translate into dataloader objects\n",
    "# notice the batches (see next cell)\n",
    "train_loader = DataLoader(train_data, batch_size = 4)\n",
    "test_loader = DataLoader(test_data)"
   ]
  },
  {
   "cell_type": "code",
   "execution_count": 19,
   "id": "e21837f3-b78a-425e-a44f-8ffb2ee6e718",
   "metadata": {},
   "outputs": [
    {
     "name": "stdout",
     "output_type": "stream",
     "text": [
      "TRAINING DATA\n",
      "tensor([[101., 102., 103., 104.],\n",
      "        [ 91.,  92.,  93.,  94.],\n",
      "        [ 31.,  32.,  33.,  34.],\n",
      "        [ 51.,  52.,  53.,  54.]]) tensor([1., 1., 0., 0.])\n",
      "tensor([[81., 82., 83., 84.],\n",
      "        [11., 12., 13., 14.],\n",
      "        [61., 62., 63., 64.],\n",
      "        [21., 22., 23., 24.]]) tensor([1., 0., 1., 0.])\n",
      " \n",
      "TESTING DATA\n",
      "tensor([[41., 42., 43., 44.]]) tensor([0.])\n",
      " \n",
      "tensor([[71., 72., 73., 74.]]) tensor([1.])\n",
      " \n"
     ]
    }
   ],
   "source": [
    "# examine the contents of the dataloader (batching is an advantage of dataloader)\n",
    "print(\"TRAINING DATA\")\n",
    "for batch, label in train_loader: # iterable\n",
    "    print(batch, label)\n",
    "\n",
    "print(\" \")\n",
    "print(\"TESTING DATA\")\n",
    "for batch, label in test_loader:\n",
    "    print(batch, label)\n",
    "    print(\" \")"
   ]
  },
  {
   "cell_type": "code",
   "execution_count": 20,
   "id": "c8044665-12a5-4a84-a766-9a0e783efca9",
   "metadata": {},
   "outputs": [],
   "source": [
    "# for iris dataset\n",
    "\n",
    "train_data, test_data, train_labels, test_labels = train_test_split(data, labels, train_size = .8)\n",
    "\n",
    "# then convert them into PyTorch Datasets (note: already converted to tensors)\n",
    "train_data = TensorDataset(train_data, train_labels)\n",
    "test_data = TensorDataset(test_data, test_labels)\n",
    "\n",
    "# finally translate into dataloader objects\n",
    "train_loader = DataLoader(train_data, shuffle = True, batch_size = 12)\n",
    "test_loader = DataLoader(test_data, batch_size = test_data.tensors[0].shape[0])"
   ]
  },
  {
   "cell_type": "code",
   "execution_count": 26,
   "id": "1544add0-724b-4dd8-bb93-5d78195e696f",
   "metadata": {},
   "outputs": [
    {
     "name": "stdout",
     "output_type": "stream",
     "text": [
      "torch.Size([12, 4]) torch.Size([12])\n",
      "torch.Size([12, 4]) torch.Size([12])\n",
      "torch.Size([12, 4]) torch.Size([12])\n",
      "torch.Size([12, 4]) torch.Size([12])\n",
      "torch.Size([12, 4]) torch.Size([12])\n",
      "torch.Size([12, 4]) torch.Size([12])\n",
      "torch.Size([12, 4]) torch.Size([12])\n",
      "torch.Size([12, 4]) torch.Size([12])\n",
      "torch.Size([12, 4]) torch.Size([12])\n",
      "torch.Size([12, 4]) torch.Size([12])\n",
      "torch.Size([30, 4]) torch.Size([30])\n"
     ]
    }
   ],
   "source": [
    "# check sizes of data batches\n",
    "for X, y in train_loader:\n",
    "    print(X.shape, y.shape)\n",
    "\n",
    "# X, y\n",
    "\n",
    "for X1, y1 in test_loader:\n",
    "    print(X1.shape, y1.shape)"
   ]
  },
  {
   "cell_type": "code",
   "execution_count": 27,
   "id": "775ff1cd-a3c6-437c-a399-5c500d9d9e6f",
   "metadata": {},
   "outputs": [],
   "source": [
    "def createANewModel():\n",
    "    # model architecture\n",
    "    ANNiris = nn.Sequential(\n",
    "        nn.Linear(4, 64), # input layer\n",
    "        nn.ReLU(), # activation\n",
    "        nn.Linear(64, 64), # hidden layer\n",
    "        nn.ReLU(), # activation\n",
    "        nn.Linear(64, 3) # output layer\n",
    "    )\n",
    "    \n",
    "    # loss function\n",
    "    lossfun = nn.CrossEntropyLoss() # automatically computes the softmax\n",
    "    \n",
    "    # optimizer\n",
    "    optimizer = torch.optim.SGD(ANNiris.parameters(), lr = .01)\n",
    "\n",
    "    return ANNiris, lossfun, optimizer"
   ]
  },
  {
   "cell_type": "code",
   "execution_count": 37,
   "id": "52e80785-a8b0-4cb9-9039-41d01014de5f",
   "metadata": {},
   "outputs": [],
   "source": [
    "# train the model\n",
    "numepochs = 500\n",
    "\n",
    "def trainTheModel():\n",
    "    trainAcc = []\n",
    "    testAcc = []\n",
    "\n",
    "    # train the model\n",
    "    for epochi in range(numepochs):\n",
    "\n",
    "        # loop over training data batches\n",
    "        batchAcc = []\n",
    "        for X, y in train_loader:\n",
    "\n",
    "            # forward pass and loss\n",
    "            yHat = ANNiris(X)\n",
    "            loss = lossfun(yHat, y)\n",
    "\n",
    "            # backprop\n",
    "            optimizer.zero_grad()\n",
    "            loss.backward()\n",
    "            optimizer.step()\n",
    "\n",
    "            # compute training accuracy just for this batch\n",
    "            batchAcc.append(100 * torch.mean((torch.argmax(yHat, axis=1) == y).float()).item())\n",
    "\n",
    "        # now that we've trained through the batches, get avg training accuracy\n",
    "        trainAcc.append(np.mean(batchAcc))\n",
    "\n",
    "        # test accuracy\n",
    "        X, y = next(iter(test_loader))  # extract X, y from test dataloader\n",
    "        predlabels = torch.argmax(ANNiris(X), axis=1)\n",
    "        testAcc.append(100 * torch.mean((predlabels == y).float()).item())\n",
    "\n",
    "    # function output\n",
    "    return trainAcc, testAcc"
   ]
  },
  {
   "cell_type": "code",
   "execution_count": 38,
   "id": "0cf893d2-3b7e-405b-a505-e8f797bc081c",
   "metadata": {},
   "outputs": [],
   "source": [
    "# create a model\n",
    "ANNiris, lossfun, optimizer = createANewModel()\n",
    "\n",
    "# train the model\n",
    "trainAcc, testAcc = trainTheModel()"
   ]
  },
  {
   "cell_type": "code",
   "execution_count": 39,
   "id": "82a843ba-1a69-49c6-a681-22a746bc4396",
   "metadata": {},
   "outputs": [
    {
     "data": {
      "image/png": "[encoded data removed]",
      "text/plain": [
       "<Figure size 1000x500 with 1 Axes>"
      ]
     },
     "metadata": {},
     "output_type": "display_data"
    }
   ],
   "source": [
    "# plot the results\n",
    "fig = plt.figure(figsize = (10, 5))\n",
    "\n",
    "plt.plot(trainAcc, \"ro-\")\n",
    "plt.plot(testAcc, \"bs-\")\n",
    "plt.xlabel(\"Epochs\")\n",
    "plt.ylabel(\"Accuracy (%)\")\n",
    "plt.legend([\"Train\", \"Test\"])\n",
    "plt.show()"
   ]
  },
  {
   "cell_type": "code",
   "execution_count": null,
   "id": "1d3b9429-333b-4ee7-b7c0-17603b6bda61",
   "metadata": {},
   "outputs": [],
   "source": []
  }
 ],
 "metadata": {
  "kernelspec": {
   "display_name": "Python 3 (ipykernel)",
   "language": "python",
   "name": "python3"
  },
  "language_info": {
   "codemirror_mode": {
    "name": "ipython",
    "version": 3
   },
   "file_extension": ".py",
   "mimetype": "text/x-python",
   "name": "python",
   "nbconvert_exporter": "python",
   "pygments_lexer": "ipython3",
   "version": "3.13.0"
  }
 },
 "nbformat": 4,
 "nbformat_minor": 5
}
