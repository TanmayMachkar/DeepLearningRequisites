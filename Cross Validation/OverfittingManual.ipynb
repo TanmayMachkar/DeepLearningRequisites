{
 "cells": [
  {
   "cell_type": "code",
   "execution_count": 1,
   "id": "742db5bd-ebfa-48f7-b1fb-abf96fdbf3ea",
   "metadata": {},
   "outputs": [],
   "source": [
    "import numpy as np\n",
    "import torch\n",
    "import torch.nn as nn"
   ]
  },
  {
   "cell_type": "code",
   "execution_count": 2,
   "id": "8d235bb5-03fd-4466-b5e1-3fa700202c62",
   "metadata": {},
   "outputs": [
    {
     "data": {
      "text/plain": [
       "tensor([0, 0, 0, 0, 0, 0, 0, 0, 0, 0, 0, 0, 0, 0, 0, 0, 0, 0, 0, 0, 0, 0, 0, 0,\n",
       "        0, 0, 0, 0, 0, 0, 0, 0, 0, 0, 0, 0, 0, 0, 0, 0, 0, 0, 0, 0, 0, 0, 0, 0,\n",
       "        0, 0, 1, 1, 1, 1, 1, 1, 1, 1, 1, 1, 1, 1, 1, 1, 1, 1, 1, 1, 1, 1, 1, 1,\n",
       "        1, 1, 1, 1, 1, 1, 1, 1, 1, 1, 1, 1, 1, 1, 1, 1, 1, 1, 1, 1, 1, 1, 1, 1,\n",
       "        1, 1, 1, 1, 2, 2, 2, 2, 2, 2, 2, 2, 2, 2, 2, 2, 2, 2, 2, 2, 2, 2, 2, 2,\n",
       "        2, 2, 2, 2, 2, 2, 2, 2, 2, 2, 2, 2, 2, 2, 2, 2, 2, 2, 2, 2, 2, 2, 2, 2,\n",
       "        2, 2, 2, 2, 2, 2])"
      ]
     },
     "execution_count": 2,
     "metadata": {},
     "output_type": "execute_result"
    }
   ],
   "source": [
    "# import dataset from seaborn\n",
    "import seaborn as sns\n",
    "iris = sns.load_dataset(\"iris\")\n",
    "\n",
    "# organize the data\n",
    "\n",
    "# convert from pandas dataframe to tensor\n",
    "data = torch.tensor(iris[iris.columns[0:4]].values).float()\n",
    "\n",
    "# transform species to number\n",
    "labels = torch.zeros(len(data), dtype = torch.long)\n",
    "# labels[iris.species == \"setosa\"] = 0 # don't need\n",
    "labels[iris.species == \"versicolor\"] = 1\n",
    "labels[iris.species == \"virginica\"] = 2\n",
    "\n",
    "labels"
   ]
  },
  {
   "cell_type": "code",
   "execution_count": 18,
   "id": "dae3ea84-d360-4097-a38e-1fa9f4556821",
   "metadata": {},
   "outputs": [
    {
     "data": {
      "text/plain": [
       "array([ True,  True, False,  True,  True, False,  True,  True,  True,\n",
       "       False,  True,  True,  True, False,  True,  True,  True,  True,\n",
       "        True,  True,  True, False,  True,  True,  True,  True,  True,\n",
       "        True, False,  True,  True, False,  True,  True, False,  True,\n",
       "        True,  True,  True, False, False,  True,  True, False,  True,\n",
       "        True, False,  True,  True, False,  True,  True,  True,  True,\n",
       "        True,  True,  True,  True,  True,  True,  True,  True,  True,\n",
       "        True,  True, False,  True,  True,  True,  True,  True,  True,\n",
       "        True,  True,  True,  True,  True,  True,  True,  True,  True,\n",
       "       False,  True,  True,  True,  True,  True,  True,  True,  True,\n",
       "        True,  True,  True,  True, False,  True,  True,  True,  True,\n",
       "        True,  True,  True, False,  True,  True,  True, False, False,\n",
       "       False,  True, False, False,  True,  True, False,  True,  True,\n",
       "        True, False,  True,  True,  True,  True, False,  True,  True,\n",
       "        True, False,  True,  True,  True,  True,  True,  True,  True,\n",
       "        True,  True,  True,  True,  True,  True,  True,  True,  True,\n",
       "       False,  True,  True, False, False, False])"
      ]
     },
     "execution_count": 18,
     "metadata": {},
     "output_type": "execute_result"
    }
   ],
   "source": [
    "# how many training examples\n",
    "propTraining = .8 # in proportion, not percent\n",
    "nTraining = int(len(labels)*propTraining)\n",
    "\n",
    "# initialize a boolean vector to select data and labels\n",
    "traintestBool = np.zeros(len(labels), dtype = bool)\n",
    "\n",
    "# is this the correct way to select samples\n",
    "# traintestBool[range(nTraining)] = True\n",
    "\n",
    "# this is better, why?\n",
    "items2use4train = np.random.choice(range(len(labels)), nTraining, replace = False)\n",
    "traintestBool[items2use4train] = True\n",
    "\n",
    "traintestBool\n",
    "# true values represent train set and false represents test samples"
   ]
  },
  {
   "cell_type": "code",
   "execution_count": 19,
   "id": "782e4162-431d-4b72-a9d5-d88c0dc29c55",
   "metadata": {},
   "outputs": [
    {
     "name": "stdout",
     "output_type": "stream",
     "text": [
      "Avg of full data:\n",
      "tensor(1.)\n",
      " \n",
      "Avg of training data:\n",
      "tensor(0.9917)\n",
      " \n",
      "Avg of test data:\n",
      "tensor(1.0333)\n"
     ]
    }
   ],
   "source": [
    "# test whether it's balanced\n",
    "print(\"Avg of full data:\")\n",
    "print(torch.mean(labels.float())) # =1 by definition\n",
    "print(\" \")\n",
    "# if 1 returned then all three species are equal in number else one might be greater in number than the others\n",
    "\n",
    "print(\"Avg of training data:\")\n",
    "print(torch.mean(labels[traintestBool].float())) # should be 1\n",
    "print(\" \")\n",
    "\n",
    "print(\"Avg of test data:\")\n",
    "print(torch.mean(labels[~traintestBool].float())) # should also be 1"
   ]
  },
  {
   "cell_type": "code",
   "execution_count": 20,
   "id": "275eff4d-10b7-445f-9f94-21cb6abe0d3e",
   "metadata": {},
   "outputs": [],
   "source": [
    "# create ANN model\n",
    "\n",
    "# model architecture\n",
    "ANNiris = nn.Sequential(\n",
    "    nn.Linear(4, 64), # input layer\n",
    "    nn.ReLU(), # activation unit\n",
    "    nn.Linear(64, 64), # hidden unit\n",
    "    nn.ReLU(), # activation unit\n",
    "    nn.Linear(64, 3) # output units\n",
    ")\n",
    "\n",
    "# loss function\n",
    "lossfun = nn.CrossEntropyLoss()\n",
    "\n",
    "# optimizer\n",
    "optimizer = torch.optim.SGD(ANNiris.parameters(), lr = .01)"
   ]
  },
  {
   "cell_type": "code",
   "execution_count": 21,
   "id": "38cd31c0-4a6c-42bb-9851-51d9b0de2012",
   "metadata": {},
   "outputs": [
    {
     "name": "stdout",
     "output_type": "stream",
     "text": [
      "torch.Size([150, 4])\n",
      "torch.Size([120, 4])\n",
      "torch.Size([30, 4])\n"
     ]
    }
   ],
   "source": [
    "# entire dataset\n",
    "print(data.shape)\n",
    "\n",
    "# training set\n",
    "print(data[traintestBool, :].shape)\n",
    "\n",
    "# test set\n",
    "print(data[~traintestBool, :].shape)"
   ]
  },
  {
   "cell_type": "code",
   "execution_count": 23,
   "id": "4033025f-7be9-4f59-8693-34d4095f30c9",
   "metadata": {},
   "outputs": [],
   "source": [
    "# train the model\n",
    "numepochs = 1000\n",
    "\n",
    "# initialize losses\n",
    "losses = torch.zeros(numepochs)\n",
    "ongoingAcc = []\n",
    "\n",
    "# train the model\n",
    "for epochi in range(numepochs):\n",
    "\n",
    "    # forward pass\n",
    "    yHat = ANNiris(data[traintestBool, :])\n",
    "\n",
    "    # compute accuracy\n",
    "    accuracy = (torch.argmax(yHat, axis=1) == labels[traintestBool]).float().mean()\n",
    "    ongoingAcc.append(100 * accuracy)  # Store accuracy as percentage\n",
    "\n",
    "    # compute loss\n",
    "    loss = lossfun(yHat, labels[traintestBool])\n",
    "    losses[epochi] = loss.item()  # Store loss value (not tensor)\n",
    "\n",
    "    # backprop\n",
    "    optimizer.zero_grad()\n",
    "    loss.backward()\n",
    "    optimizer.step()"
   ]
  },
  {
   "cell_type": "code",
   "execution_count": 24,
   "id": "91c01272-e670-439c-a0ab-5c8df708a987",
   "metadata": {},
   "outputs": [],
   "source": [
    "# compute train and test accuracies\n",
    "\n",
    "# final forward pass using training data\n",
    "predictions = ANNiris(data[traintestBool, :])\n",
    "trainacc = 100*torch.mean((torch.argmax(predictions, axis = 1) == labels[traintestBool]).float())\n",
    "\n",
    "# final forward pass using test data\n",
    "predictions = ANNiris(data[~traintestBool, :])\n",
    "testacc = 100*torch.mean((torch.argmax(predictions, axis = 1) == labels[~traintestBool]).float())"
   ]
  },
  {
   "cell_type": "code",
   "execution_count": 25,
   "id": "e74de8fa-d3bf-4e66-9e00-d843724fcc17",
   "metadata": {},
   "outputs": [
    {
     "name": "stdout",
     "output_type": "stream",
     "text": [
      "Final TRAIN accuracy is: 98.3333%\n",
      "Final TEST accuracy is: 100%\n"
     ]
    }
   ],
   "source": [
    "# report accuracies\n",
    "\n",
    "print(\"Final TRAIN accuracy is: %g%%\" %trainacc)\n",
    "print(\"Final TEST accuracy is: %g%%\" %testacc)"
   ]
  },
  {
   "cell_type": "code",
   "execution_count": null,
   "id": "8458a786-6974-4598-a6ab-6fc9f731bd53",
   "metadata": {},
   "outputs": [],
   "source": []
  }
 ],
 "metadata": {
  "kernelspec": {
   "display_name": "Python 3 (ipykernel)",
   "language": "python",
   "name": "python3"
  },
  "language_info": {
   "codemirror_mode": {
    "name": "ipython",
    "version": 3
   },
   "file_extension": ".py",
   "mimetype": "text/x-python",
   "name": "python",
   "nbconvert_exporter": "python",
   "pygments_lexer": "ipython3",
   "version": "3.13.0"
  }
 },
 "nbformat": 4,
 "nbformat_minor": 5
}
