{
 "cells": [
  {
   "cell_type": "code",
   "execution_count": 1,
   "id": "99ad9b9a-ea91-426b-b788-ff1d6cf148e8",
   "metadata": {},
   "outputs": [],
   "source": [
    "import numpy as np\n",
    "from sklearn.model_selection import train_test_split"
   ]
  },
  {
   "cell_type": "code",
   "execution_count": 14,
   "id": "dc9a2b5e-1251-452a-b1d0-be6743075c7a",
   "metadata": {},
   "outputs": [
    {
     "name": "stdout",
     "output_type": "stream",
     "text": [
      "[[ 11  12  13  14]\n",
      " [ 21  22  23  24]\n",
      " [ 31  32  33  34]\n",
      " [ 41  42  43  44]\n",
      " [ 51  52  53  54]\n",
      " [ 61  62  63  64]\n",
      " [ 71  72  73  74]\n",
      " [ 81  82  83  84]\n",
      " [ 91  92  93  94]\n",
      " [101 102 103 104]]\n",
      " \n",
      "[False False False False False  True  True  True  True  True]\n"
     ]
    }
   ],
   "source": [
    "# create a fake dataset\n",
    "\n",
    "fakedata = np.tile(np.array([1, 2, 3, 4]), (10, 1)) + np.tile(10*np.arange(1, 11), (4, 1)).T\n",
    "fakelabels = np.arange(10) > 4\n",
    "print(fakedata), print(\" \")\n",
    "print(fakelabels)"
   ]
  },
  {
   "cell_type": "code",
   "execution_count": 7,
   "id": "b115b9e2-9cca-4d0b-8dde-49f2ab616edd",
   "metadata": {},
   "outputs": [
    {
     "name": "stdout",
     "output_type": "stream",
     "text": [
      "Training data size: (8, 4)\n",
      "Devset data size: (1, 4)\n",
      "Test data size: (1, 4)\n",
      " \n",
      "Training data: \n",
      "[[ 61  62  63  64]\n",
      " [ 31  32  33  34]\n",
      " [ 51  52  53  54]\n",
      " [101 102 103 104]\n",
      " [ 41  42  43  44]\n",
      " [ 71  72  73  74]\n",
      " [ 91  92  93  94]\n",
      " [ 81  82  83  84]]\n",
      " \n",
      "Devset data: \n",
      "[[21 22 23 24]]\n",
      " \n",
      "Test data: \n",
      "[[11 12 13 14]]\n",
      " \n"
     ]
    }
   ],
   "source": [
    "# specify sizes of the partitions\n",
    "# order is train, devset, test\n",
    "partitions = [.8, .1, .1]\n",
    "\n",
    "# split the data (note the 3rd input, and the TMP in the variable name)\n",
    "train_data, testTMP_data, train_labels, testTMP_labels = train_test_split(fakedata, fakelabels, train_size = partitions[0])\n",
    "\n",
    "# now split the TMP data\n",
    "split = partitions[1]/np.sum(partitions[1:])\n",
    "devset_data, test_data, devset_labels, test_labels = train_test_split(testTMP_data, testTMP_labels, train_size = split)\n",
    "\n",
    "# print out the sizes\n",
    "print(\"Training data size: \" + str(train_data.shape))\n",
    "print(\"Devset data size: \" + str(devset_data.shape))\n",
    "print(\"Test data size: \" + str(test_data.shape))\n",
    "print(\" \")\n",
    "\n",
    "# print the train/test data\n",
    "print(\"Training data: \")\n",
    "print(train_data)\n",
    "print(\" \")\n",
    "\n",
    "print(\"Devset data: \")\n",
    "print(devset_data)\n",
    "print(\" \")\n",
    "\n",
    "print(\"Test data: \")\n",
    "print(test_data)\n",
    "print(\" \")"
   ]
  },
  {
   "cell_type": "code",
   "execution_count": 15,
   "id": "807feff7-729a-4621-8455-0053141ef89c",
   "metadata": {},
   "outputs": [
    {
     "name": "stdout",
     "output_type": "stream",
     "text": [
      "Partition proportions: \n",
      "[0.8 0.1 0.1]\n",
      " \n",
      "Partition boundaries: \n",
      "[ 8  9 10]\n",
      " \n",
      "Randomized data indices: \n",
      "[7 9 3 5 8 6 0 1 2 4]\n",
      " \n"
     ]
    }
   ],
   "source": [
    "# Partition sizes in proportion\n",
    "partitions = np.array([0.8, 0.1, 0.1])\n",
    "print(\"Partition proportions: \")\n",
    "print(partitions)\n",
    "print(\" \")\n",
    "\n",
    "# Convert proportions to absolute dataset indices\n",
    "partitionBnd = np.cumsum(partitions * len(fakelabels)).astype(int)\n",
    "print(\"Partition boundaries: \")\n",
    "print(partitionBnd)\n",
    "print(\" \")\n",
    "\n",
    "# Random indices\n",
    "randindices = np.random.permutation(len(fakelabels))\n",
    "print(\"Randomized data indices: \")\n",
    "print(randindices)\n",
    "print(\" \")\n"
   ]
  },
  {
   "cell_type": "code",
   "execution_count": 17,
   "id": "e0489c3f-af20-48ca-94df-44e1277e2123",
   "metadata": {},
   "outputs": [],
   "source": [
    "# select rows for the training  data\n",
    "train_dataN = fakedata[randindices[:partitionBnd[0]]]\n",
    "train_labelsN = fakelabels[randindices[:partitionBnd[0]]]\n",
    "\n",
    "# select rows for the devset data\n",
    "devset_dataN = fakedata[randindices[partitionBnd[0]:partitionBnd[1]], :]\n",
    "devset_labelsN = fakelabels[randindices[partitionBnd[0]:partitionBnd[1]]]\n",
    "\n",
    "# select rows for the test data\n",
    "test_dataN = fakedata[randindices[partitionBnd[1]:], :]\n",
    "test_labelsN = fakelabels[randindices[partitionBnd[1]:]]"
   ]
  },
  {
   "cell_type": "code",
   "execution_count": 18,
   "id": "20500428-2c73-4918-8559-a156faf2c672",
   "metadata": {},
   "outputs": [
    {
     "name": "stdout",
     "output_type": "stream",
     "text": [
      "Training data size: (8, 4)\n",
      "Devset size: (1, 4)\n",
      "Test data size: (1, 4)\n",
      "Training data: \n",
      "[[ 81  82  83  84]\n",
      " [101 102 103 104]\n",
      " [ 41  42  43  44]\n",
      " [ 61  62  63  64]\n",
      " [ 91  92  93  94]\n",
      " [ 71  72  73  74]\n",
      " [ 11  12  13  14]\n",
      " [ 21  22  23  24]]\n",
      " \n",
      "Devset data: \n",
      "[[31 32 33 34]]\n",
      " \n",
      "Test data: \n",
      "[[51 52 53 54]]\n",
      " \n"
     ]
    }
   ],
   "source": [
    "print(\"Training data size: \" + str(train_dataN.shape))\n",
    "print(\"Devset size: \" + str(devset_dataN.shape))\n",
    "print(\"Test data size: \" + str(test_dataN.shape))\n",
    "\n",
    "# print out the train/test data\n",
    "print(\"Training data: \")\n",
    "print(train_dataN)\n",
    "print(\" \")\n",
    "\n",
    "print(\"Devset data: \")\n",
    "print(devset_dataN)\n",
    "print(\" \")\n",
    "\n",
    "print(\"Test data: \")\n",
    "print(test_dataN)\n",
    "print(\" \")"
   ]
  },
  {
   "cell_type": "code",
   "execution_count": null,
   "id": "65d59f72-0172-4122-828b-fc986ff733db",
   "metadata": {},
   "outputs": [],
   "source": []
  }
 ],
 "metadata": {
  "kernelspec": {
   "display_name": "Python 3 (ipykernel)",
   "language": "python",
   "name": "python3"
  },
  "language_info": {
   "codemirror_mode": {
    "name": "ipython",
    "version": 3
   },
   "file_extension": ".py",
   "mimetype": "text/x-python",
   "name": "python",
   "nbconvert_exporter": "python",
   "pygments_lexer": "ipython3",
   "version": "3.13.0"
  }
 },
 "nbformat": 4,
 "nbformat_minor": 5
}
