{
 "cells": [
  {
   "cell_type": "code",
   "execution_count": 1,
   "id": "2d3dad89-6438-4b5b-874d-ccbf99765735",
   "metadata": {},
   "outputs": [],
   "source": [
    "import numpy as np\n",
    "import torch\n",
    "import torch.nn as nn"
   ]
  },
  {
   "cell_type": "code",
   "execution_count": 3,
   "id": "8e4d62aa-a6b1-41fb-8f59-298336a8595c",
   "metadata": {},
   "outputs": [
    {
     "name": "stdout",
     "output_type": "stream",
     "text": [
      "Min, max: -3,40\n",
      "Min, max indices: 3,1\n",
      " \n"
     ]
    },
    {
     "data": {
      "text/plain": [
       "(None, None)"
      ]
     },
     "execution_count": 3,
     "metadata": {},
     "output_type": "execute_result"
    }
   ],
   "source": [
    "# create a vector\n",
    "v = np.array([ 1, 40, 2, -3])\n",
    "\n",
    "# find and report the max and min values\n",
    "minval = np.min(v)\n",
    "maxval = np.max(v)\n",
    "\n",
    "print(\"Min, max: %g,%g\" %(minval, maxval))\n",
    "\n",
    "# now for the argmin/max\n",
    "minidx = np.argmin(v)\n",
    "maxidx = np.argmax(v)\n",
    "\n",
    "print(\"Min, max indices: %g,%g\" %(minidx, maxidx)), print(\" \")"
   ]
  },
  {
   "cell_type": "code",
   "execution_count": 4,
   "id": "19f21c43-5a8d-4d41-86b8-014a48dc3494",
   "metadata": {},
   "outputs": [
    {
     "name": "stdout",
     "output_type": "stream",
     "text": [
      "[[ 0  1 10]\n",
      " [20  8  5]]\n",
      " \n",
      "0\n",
      "[0 1 5]\n",
      "[0 5]\n"
     ]
    }
   ],
   "source": [
    "# repeat with matrix\n",
    "M = np.array([ [0, 1, 10],\n",
    "              [20, 8, 5]\n",
    "             ])\n",
    "print(M), print(\" \")\n",
    "\n",
    "# various minima in this matrix\n",
    "minvals1 = np.min(M) # min of entire matrix\n",
    "minvals2 = np.min(M, axis = 0) # min of each column (across rows)\n",
    "minvals3 = np.min(M, axis = 1) # min of each row (across columns)\n",
    "\n",
    "print(minvals1)\n",
    "print(minvals2)\n",
    "print(minvals3)"
   ]
  },
  {
   "cell_type": "code",
   "execution_count": 5,
   "id": "684feef4-bc38-43e5-9bd6-ce615d32b3e2",
   "metadata": {},
   "outputs": [
    {
     "name": "stdout",
     "output_type": "stream",
     "text": [
      "0\n",
      "[0 0 1]\n",
      "[0 2]\n"
     ]
    }
   ],
   "source": [
    "# various minima in this matrix\n",
    "minidx1 = np.argmin(M) # min of entire matrix\n",
    "minidx2 = np.argmin(M, axis = 0) # min of each column (across rows)\n",
    "minidx3 = np.argmin(M, axis = 1) # min of each row (across columns)\n",
    "\n",
    "print(minidx1)\n",
    "print(minidx2)\n",
    "print(minidx3)"
   ]
  },
  {
   "cell_type": "code",
   "execution_count": 6,
   "id": "4a5ff199-8132-4e9e-8866-4c53a958226d",
   "metadata": {},
   "outputs": [
    {
     "name": "stdout",
     "output_type": "stream",
     "text": [
      "Min, max: -3,40\n",
      "Min, max indices: 3,1\n",
      " \n"
     ]
    },
    {
     "data": {
      "text/plain": [
       "(None, None)"
      ]
     },
     "execution_count": 6,
     "metadata": {},
     "output_type": "execute_result"
    }
   ],
   "source": [
    "## Using pytorch\n",
    "\n",
    "# create a vector\n",
    "v = torch.tensor([1, 40, 2, -3])\n",
    "\n",
    "# find and report the max and min values\n",
    "minval = torch.min(v)\n",
    "maxval = torch.max(v)\n",
    "\n",
    "print(\"Min, max: %g,%g\" %(minval, maxval))\n",
    "\n",
    "# now for argmin/max\n",
    "minidx = torch.argmin(v)\n",
    "maxidx = torch.argmax(v)\n",
    "\n",
    "print(\"Min, max indices: %g,%g\" %(minidx, maxidx)), print(\" \")"
   ]
  },
  {
   "cell_type": "code",
   "execution_count": 7,
   "id": "2d53d5f8-b720-4c1e-b63d-e5b37738abae",
   "metadata": {},
   "outputs": [
    {
     "name": "stdout",
     "output_type": "stream",
     "text": [
      "tensor([[ 0,  1, 10],\n",
      "        [20,  8,  5]])\n",
      " \n",
      "tensor(0)\n",
      " \n",
      "torch.return_types.min(\n",
      "values=tensor([0, 1, 5]),\n",
      "indices=tensor([0, 0, 1]))\n",
      " \n",
      "tensor([0, 1, 5])\n",
      "tensor([0, 0, 1])\n"
     ]
    }
   ],
   "source": [
    "# repeat with matrix\n",
    "M = torch.tensor([ [0, 1, 10],\n",
    "                   [20, 8, 5]\n",
    "                 ])\n",
    "print(M), print(\" \")\n",
    "\n",
    "# various minima in this matrix\n",
    "min1 = torch.min(M) # min of entire matrix\n",
    "min2 = torch.min(M, axis = 0) # min of each column (across rows)\n",
    "min3 = torch.min(M, axis = 1) # min of each row (across columns)\n",
    "\n",
    "print(min1), print(\" \")\n",
    "print(min2), print(\" \")\n",
    "print(min2.values)\n",
    "print(min2.indices)"
   ]
  },
  {
   "cell_type": "code",
   "execution_count": null,
   "id": "d2ce5d65-2e04-48a4-a37e-b279de230460",
   "metadata": {},
   "outputs": [],
   "source": []
  }
 ],
 "metadata": {
  "kernelspec": {
   "display_name": "Python 3 (ipykernel)",
   "language": "python",
   "name": "python3"
  },
  "language_info": {
   "codemirror_mode": {
    "name": "ipython",
    "version": 3
   },
   "file_extension": ".py",
   "mimetype": "text/x-python",
   "name": "python",
   "nbconvert_exporter": "python",
   "pygments_lexer": "ipython3",
   "version": "3.13.0"
  }
 },
 "nbformat": 4,
 "nbformat_minor": 5
}
